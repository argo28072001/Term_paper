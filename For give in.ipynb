{
 "cells": [
  {
   "cell_type": "code",
   "execution_count": 1,
   "metadata": {},
   "outputs": [],
   "source": [
    "import numpy as np\n",
    "import random\n",
    "import scipy.stats as ss\n",
    "import matplotlib.pyplot as plt\n",
    "from tqdm import tqdm\n",
    "from matplotlib_inline.backend_inline import set_matplotlib_formats\n",
    "set_matplotlib_formats('svg')\n",
    "import copy\n",
    "import itertools"
   ]
  },
  {
   "cell_type": "code",
   "execution_count": 2,
   "metadata": {},
   "outputs": [],
   "source": [
    "from statsmodels.stats.multitest import multipletests"
   ]
  },
  {
   "cell_type": "code",
   "execution_count": 3,
   "metadata": {},
   "outputs": [],
   "source": [
    "np.random.seed=123"
   ]
  },
  {
   "cell_type": "code",
   "execution_count": 4,
   "metadata": {},
   "outputs": [],
   "source": [
    "import warnings\n",
    "warnings.filterwarnings(\"error\")"
   ]
  },
  {
   "cell_type": "markdown",
   "metadata": {},
   "source": [
    "# Basic setup"
   ]
  },
  {
   "cell_type": "markdown",
   "metadata": {},
   "source": [
    "## School"
   ]
  },
  {
   "cell_type": "markdown",
   "metadata": {},
   "source": [
    "School $i$ is defined with fixed parametres $W, R$ and variable $\\mu(s_i)$, which defines the set of students at this school"
   ]
  },
  {
   "cell_type": "markdown",
   "metadata": {},
   "source": [
    "$W, R$ ~ $U[w_0, w_1], U[r_0, r_1]$"
   ]
  },
  {
   "cell_type": "code",
   "execution_count": 5,
   "metadata": {},
   "outputs": [],
   "source": [
    "def resources(n):\n",
    "    return ss.uniform.rvs(size=n)"
   ]
  },
  {
   "cell_type": "code",
   "execution_count": 6,
   "metadata": {},
   "outputs": [],
   "source": [
    "def get_W(n):\n",
    "    return np.array([ss.uniform(loc=0.000001, scale=10).rvs(size=n), ss.uniform(loc=0.000001, scale=10).rvs(size=n)])"
   ]
  },
  {
   "cell_type": "code",
   "execution_count": 7,
   "metadata": {},
   "outputs": [],
   "source": [
    "def students(n):\n",
    "    student = np.zeros(n)\n",
    "    for i in range(n):\n",
    "        student[i] = i + 1\n",
    "    return student"
   ]
  },
  {
   "cell_type": "markdown",
   "metadata": {},
   "source": [
    "Students will start from random allocation in schools 1 and 2. For 2 schools: 1st school is $ a_1 = \\mu_{0}^1(s) \\in \\mathbb{F} ^2$, and 2nd school is $a_2 = \\mu_{0}^2(s)= \\bar{a_1}$"
   ]
  },
  {
   "cell_type": "code",
   "execution_count": 8,
   "metadata": {},
   "outputs": [],
   "source": [
    "def initial_allocation(stud):\n",
    "    n = len(stud)\n",
    "    p = ss.uniform.rvs()\n",
    "    allocation = ss.bernoulli.rvs(p, size = n)\n",
    "    school1, school2 = np.zeros(n), np.zeros(n)\n",
    "    for i in range(n):\n",
    "        if allocation[i] == 1:\n",
    "            school1[i] = 1\n",
    "        else:\n",
    "            school2[i] = 1\n",
    "    return school1, school2"
   ]
  },
  {
   "cell_type": "markdown",
   "metadata": {},
   "source": [
    "## Utility"
   ]
  },
  {
   "cell_type": "markdown",
   "metadata": {},
   "source": [
    "$$ U_i = R_s \\frac{w_{is}}{\\sum_{j \\in \\mu(s)} w_{js}} $$"
   ]
  },
  {
   "cell_type": "code",
   "execution_count": 9,
   "metadata": {},
   "outputs": [],
   "source": [
    "def utility(n, r, w, school1, school2):\n",
    "    \n",
    "    \"\"\" \n",
    "    n - student's number\n",
    "    r - resource matrix\n",
    "    w - weights matrix\n",
    "    school1 - allocation in school 1\n",
    "    school2 - allocation in school 2\n",
    "    \n",
    "    \"\"\"\n",
    "    \n",
    "    if school1[n] == 1:\n",
    "        utility1 = r[0] * w[0][n] / np.sum((w[0] * school1))\n",
    "        utility2 = r[1] * w[1][n] / (np.sum((w[1] * school2)) + w[1][n])\n",
    "    else:\n",
    "        utility1 = r[0] * w[0][n] / (np.sum((w[0] * school1)) + w[0][n])\n",
    "        utility2 = r[1] * w[1][n] / np.sum((w[1] * school2))\n",
    "    \n",
    "    return utility1, utility2"
   ]
  },
  {
   "cell_type": "markdown",
   "metadata": {},
   "source": [
    "## Equilibrium check"
   ]
  },
  {
   "cell_type": "markdown",
   "metadata": {},
   "source": [
    "The equilibrium condition is that for $\\forall i \\in s_1: U_{i1} \\geq U_{i2}$. Analogously for $\\forall i \\in s_2$"
   ]
  },
  {
   "cell_type": "code",
   "execution_count": 10,
   "metadata": {},
   "outputs": [],
   "source": [
    "def check_equilibrium(R, W, sch1, sch2):\n",
    "    \n",
    "    l = len(sch1)\n",
    "    flag = len(sch1)\n",
    "    \n",
    "    for i in range(l):\n",
    "        try:\n",
    "            u1, u2 = utility(i, R, W, sch1, sch2)\n",
    "            if ((sch1[i] != 0) and (u1 >= u2)) or ((sch2[i] != 0) and (u1 <= u2)) or ((sch1[i] == 0) and (sch2[i] == 0)):\n",
    "                flag -= 1\n",
    "        except RuntimeWarning:\n",
    "            flag -= 1\n",
    "            continue\n",
    "            \n",
    "    if flag == 0:\n",
    "        return 1\n",
    "    else:\n",
    "        return 0"
   ]
  },
  {
   "cell_type": "markdown",
   "metadata": {},
   "source": [
    "# Absence of uniqueness"
   ]
  },
  {
   "cell_type": "code",
   "execution_count": 11,
   "metadata": {},
   "outputs": [],
   "source": [
    "def check_all_eq(n):\n",
    "    \n",
    "    R = resources(2)\n",
    "    W = get_W(n)\n",
    "    \n",
    "    \n",
    "    lst = list(map(list, itertools.product([0, 1], repeat=n)))\n",
    "    \n",
    "    num_of_eqs = 0\n",
    "    \n",
    "    eqs = []\n",
    "    \n",
    "    for i in range(len(lst)):\n",
    "        sch1 = np.array(lst[i])\n",
    "        sch2 = np.ones(n) - sch1\n",
    "        \n",
    "        check_in = check_equilibrium(R, W, sch1, sch2)\n",
    "        num_of_eqs += check_in\n",
    "        \n",
    "        if check_in == 1:\n",
    "            eqs.append(sch1)\n",
    "        \n",
    "\n",
    "    return num_of_eqs, eqs, R, W"
   ]
  },
  {
   "cell_type": "code",
   "execution_count": 12,
   "metadata": {},
   "outputs": [
    {
     "data": {
      "text/plain": [
       "(5,\n",
       " [array([0, 0, 1, 1]),\n",
       "  array([0, 1, 0, 1]),\n",
       "  array([0, 1, 1, 0]),\n",
       "  array([1, 0, 0, 1]),\n",
       "  array([1, 0, 1, 0])],\n",
       " array([0.76461217, 0.7184986 ]),\n",
       " array([[8.80961806, 6.97121588, 6.72766138, 6.56816523],\n",
       "        [6.49090281, 7.23300664, 8.91862107, 3.99382906]]))"
      ]
     },
     "execution_count": 12,
     "metadata": {},
     "output_type": "execute_result"
    }
   ],
   "source": [
    "st = 0 \n",
    "n = 4\n",
    "while st != 5:\n",
    "    R = resources(n)\n",
    "    W = get_W(n)\n",
    "    res = check_all_eq(n)\n",
    "    st = res[0]\n",
    "    \n",
    "res"
   ]
  },
  {
   "cell_type": "markdown",
   "metadata": {},
   "source": [
    "Not uniqueness in general case of equlibrium is prooved by counterexample for 4 students."
   ]
  },
  {
   "cell_type": "markdown",
   "metadata": {},
   "source": [
    "# Welfare and Inequality"
   ]
  },
  {
   "cell_type": "markdown",
   "metadata": {},
   "source": [
    "$W= \\sum_1^n \\sqrt{u_i} $"
   ]
  },
  {
   "cell_type": "code",
   "execution_count": 13,
   "metadata": {},
   "outputs": [],
   "source": [
    "def get_welfare_school(R, W, sch):\n",
    "    down = np.sum(W * sch)\n",
    "    \n",
    "    if down != 0:\n",
    "        return np.sum(np.sqrt(R * W / down) * sch)\n",
    "    else:\n",
    "        return 0"
   ]
  },
  {
   "cell_type": "code",
   "execution_count": 14,
   "metadata": {},
   "outputs": [],
   "source": [
    "def get_welfare_school_row(R, W, sch):\n",
    "    down = np.sum(W * sch)\n",
    "    \n",
    "    sample = np.sqrt(R * W / down) * sch\n",
    "    sample = sample[sample > 0]\n",
    "    return sample\n"
   ]
  },
  {
   "cell_type": "code",
   "execution_count": 15,
   "metadata": {},
   "outputs": [],
   "source": [
    "def get_gini(arr):\n",
    "    g = 0\n",
    "    peps = len(arr)\n",
    "    arr = sorted(arr)\n",
    "    rel_inc = np.cumsum(arr / np.sum(arr))\n",
    "    \n",
    "    for i in range(peps - 1):\n",
    "        g += 1 / peps * (rel_inc[i]+rel_inc[i+1])\n",
    "        \n",
    "    G = abs(1 - g)\n",
    "    return G, rel_inc"
   ]
  },
  {
   "cell_type": "markdown",
   "metadata": {},
   "source": [
    "## Uniform distribution of $W, R$,  no $u_0$"
   ]
  },
  {
   "cell_type": "markdown",
   "metadata": {},
   "source": [
    "The set of strategies $\\forall i \\in I = \\{s_1, s_2\\}$"
   ]
  },
  {
   "cell_type": "code",
   "execution_count": 16,
   "metadata": {},
   "outputs": [],
   "source": [
    "def naive_strategy_1(n, r, w, school1, school2):\n",
    "    u1, u2 = utility(n, r, w, school1, school2)\n",
    "    \n",
    "    if (school1[n] != 0) and (u2 > u1):\n",
    "        school1[n] = 0\n",
    "        school2[n] = 1\n",
    "    elif (school2[n] != 0) and (u2 < u1):\n",
    "        school1[n] = 1\n",
    "        school2[n] = 0\n",
    "    return school1, school2"
   ]
  },
  {
   "cell_type": "code",
   "execution_count": 17,
   "metadata": {},
   "outputs": [],
   "source": [
    "def sim_welf_1(R, W, stud, r1, n):\n",
    "    \n",
    "    sch1, sch2 = initial_allocation(students(n))\n",
    "            \n",
    "    check = check_equilibrium(R, W, sch1, sch2)\n",
    "    \n",
    "    j = 0\n",
    "    while check != 1:\n",
    "        person = j % n \n",
    "        sch1, sch2 = naive_strategy_1(person, R, W, sch1, sch2) \n",
    "        check = check_equilibrium(R, W, sch1, sch2)\n",
    "        j += 1\n",
    "\n",
    "    sch1, sch2 = np.array(sch1), np.array(sch2)\n",
    "    \n",
    "    \n",
    "    log_u_1 = get_welfare_school(R[0], W[0], sch1)\n",
    "    log_u_2 = get_welfare_school(R[1], W[1], sch2)\n",
    "    \n",
    "    welfare = log_u_1 + log_u_2\n",
    "    \n",
    "    return welfare"
   ]
  },
  {
   "cell_type": "code",
   "execution_count": 18,
   "metadata": {},
   "outputs": [],
   "source": [
    "def simulation_short_uniform_sq_spread(r1, n, folds, increment=0.1, r2=10):\n",
    "    \n",
    "    \"\"\" \n",
    "    \n",
    "    r1 - ресурсы в элитной школе (во второй школе ресурсы будут всегда 1, поэтому мы их зафиксируем)\n",
    "    n - кол-во школьников\n",
    "    folds - кол-во разбиений\n",
    "    \n",
    "    \"\"\"\n",
    "    \n",
    "    R = np.array([r1 + r2, r1 + r2])\n",
    "    W = get_W(n)\n",
    "        \n",
    "    stud = students(n)\n",
    "    \n",
    "    # let's vary the R\n",
    "    \n",
    "    all_welf = np.zeros(folds - 1)\n",
    "    \n",
    "    for i in range(1, folds):\n",
    "        delta = i / folds\n",
    "        R_sample = R * np.array([delta, (1 - delta)])\n",
    "        welfare = sim_welf_1(R_sample, W, stud, r1, n)\n",
    "        all_welf[i - 1] = welfare\n",
    "    \n",
    "    return all_welf[1:folds], np.argmax(all_welf[1:folds-1])"
   ]
  },
  {
   "cell_type": "markdown",
   "metadata": {},
   "source": [
    "## How can we Welfare $\\rightarrow max$ for fixed amount of resources?"
   ]
  },
  {
   "cell_type": "markdown",
   "metadata": {},
   "source": [
    "Whereever we inroduce a policy, we apply it to the *previous equilibrium*"
   ]
  },
  {
   "cell_type": "markdown",
   "metadata": {},
   "source": [
    "Let's keep $R_1 + R_2 = R_0$ where $R_0 \\in \\mathbb{R}_+$ "
   ]
  },
  {
   "cell_type": "markdown",
   "metadata": {},
   "source": [
    "$R_1 = 40, R_2 = 10, n = 20$"
   ]
  },
  {
   "cell_type": "code",
   "execution_count": 175,
   "metadata": {},
   "outputs": [
    {
     "name": "stdout",
     "output_type": "stream",
     "text": [
      "62\n"
     ]
    },
    {
     "data": {
      "text/plain": [
       "[<matplotlib.lines.Line2D at 0x2655555f908>]"
      ]
     },
     "execution_count": 175,
     "metadata": {},
     "output_type": "execute_result"
    },
    {
     "data": {
      "image/png": "[encoded data removed]",
      "text/plain": [
       "<Figure size 432x288 with 1 Axes>"
      ]
     },
     "metadata": {
      "needs_background": "light"
     },
     "output_type": "display_data"
    }
   ],
   "source": [
    "res = simulation_short_uniform_sq_spread(40, 20, 100)\n",
    "print(res[1])\n",
    "plt.xlabel(\"Share of resources in school 1\")\n",
    "plt.ylabel(\"Welfare\")\n",
    "plt.plot(np.array(range(1, 99)) / 100, res[0])"
   ]
  },
  {
   "cell_type": "markdown",
   "metadata": {},
   "source": [
    "We see some kind of a parabola that shows that welfare maximizes at $R_1 \\backsimeq R_2$"
   ]
  },
  {
   "cell_type": "markdown",
   "metadata": {},
   "source": [
    "Take a look at the distribution of $\\text{argmax}(W)$"
   ]
  },
  {
   "cell_type": "code",
   "execution_count": 176,
   "metadata": {},
   "outputs": [
    {
     "name": "stderr",
     "output_type": "stream",
     "text": [
      "100%|██████████████████████████████████████████████████████████████████████████████| 1000/1000 [16:49<00:00,  1.01s/it]\n"
     ]
    }
   ],
   "source": [
    "perm = 1000\n",
    "all_max_r1_to_r2 = np.zeros(perm)\n",
    "for i in tqdm(range(perm)):\n",
    "    res = simulation_short_uniform_sq_spread(40, 20, 100)\n",
    "    all_max_r1_to_r2[i] = res[1]"
   ]
  },
  {
   "cell_type": "code",
   "execution_count": 180,
   "metadata": {},
   "outputs": [
    {
     "data": {
      "text/plain": [
       "(array([ 17.,  44.,  95., 166., 201., 234., 117.,  77.,  33.,  16.]),\n",
       " array([0.   , 0.097, 0.194, 0.291, 0.388, 0.485, 0.582, 0.679, 0.776,\n",
       "        0.873, 0.97 ]),\n",
       " <a list of 10 Patch objects>)"
      ]
     },
     "execution_count": 180,
     "metadata": {},
     "output_type": "execute_result"
    },
    {
     "data": {
      "image/png": "[encoded data removed]",
      "text/plain": [
       "<Figure size 432x288 with 1 Axes>"
      ]
     },
     "metadata": {
      "needs_background": "light"
     },
     "output_type": "display_data"
    }
   ],
   "source": [
    "plt.xlabel(\"Argmax share of resources in school 1\")\n",
    "plt.hist(all_max_r1_to_r2 / 100)"
   ]
  },
  {
   "cell_type": "code",
   "execution_count": 20,
   "metadata": {},
   "outputs": [],
   "source": [
    "def simulation_short_uniform_with_reserved_sq_folds(r1, n, u0, increment=0.1, r2=10, folds=100):\n",
    "    \n",
    "    \"\"\" \n",
    "    r1 - resources in the richer school\n",
    "    n - numner of students\n",
    "    u0 - reserve utility \n",
    "    \n",
    "    \"\"\"\n",
    "    \n",
    "    R = np.array([r1+r2, r1+r2])\n",
    "    W = get_W(n)\n",
    "        \n",
    "    stud = students(n)\n",
    "    \n",
    "    all_welfare = np.zeros(folds-1)\n",
    "    \n",
    "    for i in range(1, folds-1):\n",
    "        try:\n",
    "            delta = i / folds\n",
    "            R_sample = R * np.array([delta, 1 - delta])\n",
    "            all_welfare[i] = sim_welf_uniform_reserve(R_sample, W, stud, n, u0)\n",
    "        except RuntimeWarning:\n",
    "            all_welfare[i] = np.sqrt(u0) * n\n",
    "            continue\n",
    "\n",
    "    ans = all_welfare[all_welfare > 0]\n",
    "    return ans[:folds // 2], np.argmax(ans) / folds"
   ]
  },
  {
   "cell_type": "code",
   "execution_count": 21,
   "metadata": {},
   "outputs": [],
   "source": [
    "def another_naive_strategy(n, r, w, school1, school2, loosers, u0):\n",
    "    \n",
    "    '''\n",
    "    loosers - the vector of school leavers\n",
    "    '''\n",
    "    \n",
    "    u1, u2 = utility(n, r, w, school1, school2)\n",
    "    \n",
    "    if max(u1, u2) < u0:\n",
    "        school1[n], school2[n], loosers[n] = 0, 0, 1\n",
    "        \n",
    "    if (school1[n] != 0) and (u2 > u1):\n",
    "        school1[n] = 0\n",
    "        school2[n] = 1\n",
    "    elif (school2[n] != 0) and (u2 < u1):\n",
    "        school1[n] = 1\n",
    "        school2[n] = 0\n",
    "        \n",
    "    return school1, school2, loosers"
   ]
  },
  {
   "cell_type": "code",
   "execution_count": 22,
   "metadata": {},
   "outputs": [],
   "source": [
    "def sim_welf_uniform_reserve(R, W, stud, n, u_0):\n",
    "    \n",
    "    sch1, sch2 = initial_allocation(students(n))\n",
    "        \n",
    "    list_of_quits = np.zeros(n)\n",
    "        \n",
    "    check = check_equilibrium(R, W, sch1, sch2)\n",
    "    \n",
    "    j = 0\n",
    "    while check != 1:\n",
    "        person = j % n \n",
    "        sch1, sch2, list_of_quits = another_naive_strategy(person, R, W, sch1, sch2, list_of_quits, u_0) \n",
    "        check = check_equilibrium(R, W, sch1, sch2)\n",
    "        j += 1\n",
    "\n",
    "    sch1, sch2 = np.array(sch1), np.array(sch2)\n",
    "    \n",
    "    num_students_left = np.sum(list_of_quits)\n",
    "    \n",
    "    log_u_1 = get_welfare_school(R[0], W[0], sch1)\n",
    "    log_u_2 = get_welfare_school(R[1], W[1], sch2)\n",
    "    log_u_left = get_welfare_left(u_0, num_students_left)\n",
    "        \n",
    "    welfare = max(log_u_1 + log_u_2 + log_u_left, np.sqrt(u_0) * n)\n",
    "    \n",
    "    return welfare"
   ]
  },
  {
   "cell_type": "code",
   "execution_count": 23,
   "metadata": {},
   "outputs": [],
   "source": [
    "def get_welfare_left(u0, n):\n",
    "    return np.sum(n * np.sqrt(u0))"
   ]
  },
  {
   "cell_type": "code",
   "execution_count": 24,
   "metadata": {},
   "outputs": [],
   "source": [
    "def get_welfare_left_row(u0, n):\n",
    "    return np.array(int(n) * [u0])"
   ]
  },
  {
   "cell_type": "markdown",
   "metadata": {},
   "source": [
    "Let's change only $u_0$, keeping everything else fixed. Because the task is symmetrical ommiting the non-uniqueness of the equilibrium, we will pay attention to the share of resources in first school $ t \\in(0, 0.5]$"
   ]
  },
  {
   "cell_type": "code",
   "execution_count": 25,
   "metadata": {},
   "outputs": [],
   "source": [
    "x = np.array(range(1, 1001)) / 2000"
   ]
  },
  {
   "cell_type": "code",
   "execution_count": 26,
   "metadata": {},
   "outputs": [
    {
     "name": "stdout",
     "output_type": "stream",
     "text": [
      "0.349\n"
     ]
    },
    {
     "data": {
      "text/plain": [
       "[<matplotlib.lines.Line2D at 0x265520b8bc8>]"
      ]
     },
     "execution_count": 26,
     "metadata": {},
     "output_type": "execute_result"
    },
    {
     "data": {
      "image/png": "[encoded data removed]",
      "text/plain": [
       "<Figure size 432x288 with 1 Axes>"
      ]
     },
     "metadata": {
      "needs_background": "light"
     },
     "output_type": "display_data"
    }
   ],
   "source": [
    "res = simulation_short_uniform_with_reserved_sq_folds(100, 40, 0, folds=2000)\n",
    "print(res[1])\n",
    "plt.xlabel(\"Share of resources in school 1\")\n",
    "plt.ylabel(\"Welfare\")\n",
    "plt.plot(x, res[0])"
   ]
  },
  {
   "cell_type": "markdown",
   "metadata": {},
   "source": [
    "We see that the welfare increases with the increase of $t$"
   ]
  },
  {
   "cell_type": "markdown",
   "metadata": {},
   "source": [
    "## How can we Welfare $\\rightarrow max$ if we can allocate more resource to one of the schools?"
   ]
  },
  {
   "cell_type": "code",
   "execution_count": 27,
   "metadata": {},
   "outputs": [],
   "source": [
    "def simulation_short_uniform_sq_pluses(r1, n, all_increments = np.array(range(1, 15+1)) / 100, r2=10):\n",
    "    \n",
    "    R = np.array([r1, r2])\n",
    "    W = get_W(n)\n",
    "        \n",
    "    stud = students(n)\n",
    "    \n",
    "    # no policy\n",
    "\n",
    "    welfare = sim_welf_1(R, W, stud, r1, n)\n",
    "    \n",
    "    # implication\n",
    "                                  \n",
    "    l = len(all_increments)\n",
    "                              \n",
    "    all_plus_fix = np.zeros(l) \n",
    "    all_diffs_fix = np.zeros(l)\n",
    "    \n",
    "    for i in range(l):\n",
    "                              \n",
    "        increment = all_increments[i]\n",
    "    \n",
    "        # investment\n",
    "        delta = np.sum(R) * increment\n",
    "\n",
    "        R1 = np.array([R[0] + delta, R[1]])\n",
    "        R2 = np.array([R[0], R[1] + delta])\n",
    "\n",
    "        welfare1 = sim_welf_1(R1, W, stud, r1, n)\n",
    "\n",
    "        welfare2 = sim_welf_1(R2, W, stud, r1, n)\n",
    "\n",
    "        plus1 = welfare1 - welfare\n",
    "        plus2 = welfare2 - welfare\n",
    "\n",
    "        diff_plus = welfare1 - welfare2\n",
    "\n",
    "        all_plus_fix[i], all_diffs_fix[i] = max(plus1, plus2), diff_plus\n",
    "                              \n",
    "    return all_plus_fix, all_diffs_fix"
   ]
  },
  {
   "cell_type": "code",
   "execution_count": 28,
   "metadata": {},
   "outputs": [],
   "source": [
    "x = np.array(range(1, 40)) / 100"
   ]
  },
  {
   "cell_type": "markdown",
   "metadata": {},
   "source": [
    "Now we will keep matrices $W, R$ fixed and vary the amount of resource $\\delta$ that we can add to one of the schools."
   ]
  },
  {
   "cell_type": "markdown",
   "metadata": {},
   "source": [
    "$\\delta$ is some increment that we can allocate to one of two schools.$\\Delta(W) = max(W_1, W_2) - W_0$, where $W_0$ denotes the welfare of initial allocation, and $W_1, W_2$ denote the welfare in case of addition of the $\\delta$ to school 1, school2, respectively. \n",
    "\n",
    " \n",
    "$$ \\delta = \\alpha (R_1 + R_2) $$\n",
    "where $\\alpha$ it the increment in the previous code\n",
    "\n",
    "The following histogramm shows that $\\Delta$ rises with the addition of $\\delta$, which is quite logical as we add more resources to the system."
   ]
  },
  {
   "cell_type": "markdown",
   "metadata": {},
   "source": [
    "**Case 1**\n",
    "$R_1 = 2R_2$"
   ]
  },
  {
   "cell_type": "code",
   "execution_count": 184,
   "metadata": {},
   "outputs": [
    {
     "data": {
      "text/plain": [
       "[<matplotlib.lines.Line2D at 0x2655578ed08>]"
      ]
     },
     "execution_count": 184,
     "metadata": {},
     "output_type": "execute_result"
    },
    {
     "data": {
      "image/png": "[encoded data removed]",
      "text/plain": [
       "<Figure size 432x288 with 1 Axes>"
      ]
     },
     "metadata": {
      "needs_background": "light"
     },
     "output_type": "display_data"
    }
   ],
   "source": [
    "res = simulation_short_uniform_sq_pluses(20, 40, all_increments=x)\n",
    "plt.xlabel(\"alpha\")\n",
    "plt.ylabel(\"diff\")\n",
    "plt.plot(x, res[1])"
   ]
  },
  {
   "cell_type": "code",
   "execution_count": 183,
   "metadata": {},
   "outputs": [
    {
     "data": {
      "text/plain": [
       "[<matplotlib.lines.Line2D at 0x26553f16548>]"
      ]
     },
     "execution_count": 183,
     "metadata": {},
     "output_type": "execute_result"
    },
    {
     "data": {
      "image/png": "[encoded data removed]",
      "text/plain": [
       "<Figure size 432x288 with 1 Axes>"
      ]
     },
     "metadata": {
      "needs_background": "light"
     },
     "output_type": "display_data"
    }
   ],
   "source": [
    "plt.xlabel(\"alpha\")\n",
    "plt.ylabel(\"Delta\")\n",
    "plt.plot(x, res[0])"
   ]
  },
  {
   "cell_type": "markdown",
   "metadata": {},
   "source": [
    "**Case 1**\n",
    "$R_1 = 4R_2$"
   ]
  },
  {
   "cell_type": "code",
   "execution_count": 179,
   "metadata": {},
   "outputs": [
    {
     "data": {
      "text/plain": [
       "[<matplotlib.lines.Line2D at 0x265556c0188>]"
      ]
     },
     "execution_count": 179,
     "metadata": {},
     "output_type": "execute_result"
    },
    {
     "data": {
      "image/png": "[encoded data removed]",
      "text/plain": [
       "<Figure size 432x288 with 1 Axes>"
      ]
     },
     "metadata": {
      "needs_background": "light"
     },
     "output_type": "display_data"
    }
   ],
   "source": [
    "res = simulation_short_uniform_sq_pluses(40, 40, all_increments=x)\n",
    "plt.xlabel(\"alpha\")\n",
    "plt.ylabel(\"diff\")\n",
    "plt.plot(x, res[1])"
   ]
  },
  {
   "cell_type": "markdown",
   "metadata": {},
   "source": [
    "Now it is easier to see a trend that investment to the poor school provides a higher welfare boost."
   ]
  },
  {
   "cell_type": "markdown",
   "metadata": {},
   "source": [
    "**Is it true that for small $\\delta$ there is no difference where to invest or maybe it is profitable to invest into the 2nd school?** (no $u_0$)"
   ]
  },
  {
   "cell_type": "markdown",
   "metadata": {},
   "source": [
    "We will also use bootstrap to estimate the probability of poor school investment being profitable. "
   ]
  },
  {
   "cell_type": "code",
   "execution_count": 31,
   "metadata": {},
   "outputs": [],
   "source": [
    "x = np.array(range(1, 10)) / 1000"
   ]
  },
  {
   "cell_type": "markdown",
   "metadata": {},
   "source": [
    "$R_1 = 20, R_2 = 10, \\alpha\\in \\{0.01, 0.05, 0.1\\}$ "
   ]
  },
  {
   "cell_type": "code",
   "execution_count": 32,
   "metadata": {},
   "outputs": [
    {
     "name": "stderr",
     "output_type": "stream",
     "text": [
      "100%|██████████████████████████████████████████████████████████████████████████████| 1000/1000 [04:07<00:00,  4.03it/s]\n"
     ]
    }
   ],
   "source": [
    "perm = 1000\n",
    "all_diff_uni_small = np.zeros(perm)\n",
    "\n",
    "for i in tqdm(range(perm)):\n",
    "    res = simulation_short_uniform_sq_pluses(20, 40, all_increments=np.array([0.01]))\n",
    "    all_diff_uni_small[i] = np.max(res[1])"
   ]
  },
  {
   "cell_type": "code",
   "execution_count": 33,
   "metadata": {},
   "outputs": [
    {
     "data": {
      "text/plain": [
       "(array([  1.,   6.,  42., 267., 334., 196.,  84.,  42.,  19.,   9.]),\n",
       " array([-0.08554999, -0.06920037, -0.05285074, -0.03650112, -0.0201515 ,\n",
       "        -0.00380188,  0.01254775,  0.02889737,  0.04524699,  0.06159661,\n",
       "         0.07794623]),\n",
       " <a list of 10 Patch objects>)"
      ]
     },
     "execution_count": 33,
     "metadata": {},
     "output_type": "execute_result"
    },
    {
     "data": {
      "image/png": "[encoded data removed]",
      "text/plain": [
       "<Figure size 432x288 with 1 Axes>"
      ]
     },
     "metadata": {
      "needs_background": "light"
     },
     "output_type": "display_data"
    }
   ],
   "source": [
    "plt.xlabel(\"diff\")\n",
    "plt.hist(all_diff_uni_small)"
   ]
  },
  {
   "cell_type": "code",
   "execution_count": 34,
   "metadata": {},
   "outputs": [
    {
     "data": {
      "text/plain": [
       "0.705"
      ]
     },
     "execution_count": 34,
     "metadata": {},
     "output_type": "execute_result"
    }
   ],
   "source": [
    "len(all_diff_uni_small[all_diff_uni_small < 0]) / perm"
   ]
  },
  {
   "cell_type": "code",
   "execution_count": 35,
   "metadata": {},
   "outputs": [
    {
     "name": "stderr",
     "output_type": "stream",
     "text": [
      "100%|██████████████████████████████████████████████████████████████████████████████| 1000/1000 [04:03<00:00,  4.11it/s]\n"
     ]
    }
   ],
   "source": [
    "perm = 1000\n",
    "all_diff_uni_small = np.zeros(perm)\n",
    "\n",
    "for i in tqdm(range(perm)):\n",
    "    res = simulation_short_uniform_sq_pluses(20, 40, all_increments=np.array([0.05]))\n",
    "    all_diff_uni_small[i] = np.max(res[1])"
   ]
  },
  {
   "cell_type": "code",
   "execution_count": 36,
   "metadata": {},
   "outputs": [
    {
     "data": {
      "text/plain": [
       "(array([  5.,  12.,  20.,  43.,  92., 193., 276., 309.,  44.,   6.]),\n",
       " array([-0.19536331, -0.16999634, -0.14462938, -0.11926242, -0.09389545,\n",
       "        -0.06852849, -0.04316153, -0.01779456,  0.0075724 ,  0.03293936,\n",
       "         0.05830633]),\n",
       " <a list of 10 Patch objects>)"
      ]
     },
     "execution_count": 36,
     "metadata": {},
     "output_type": "execute_result"
    },
    {
     "data": {
      "image/png": "[encoded data removed]",
      "text/plain": [
       "<Figure size 432x288 with 1 Axes>"
      ]
     },
     "metadata": {
      "needs_background": "light"
     },
     "output_type": "display_data"
    }
   ],
   "source": [
    "plt.xlabel(\"diff\")\n",
    "plt.hist(all_diff_uni_small)"
   ]
  },
  {
   "cell_type": "code",
   "execution_count": 37,
   "metadata": {},
   "outputs": [
    {
     "data": {
      "text/plain": [
       "0.864"
      ]
     },
     "execution_count": 37,
     "metadata": {},
     "output_type": "execute_result"
    }
   ],
   "source": [
    "len(all_diff_uni_small[all_diff_uni_small < 0]) / perm"
   ]
  },
  {
   "cell_type": "code",
   "execution_count": 38,
   "metadata": {},
   "outputs": [
    {
     "name": "stderr",
     "output_type": "stream",
     "text": [
      "100%|██████████████████████████████████████████████████████████████████████████████| 1000/1000 [04:07<00:00,  4.04it/s]\n"
     ]
    }
   ],
   "source": [
    "perm = 1000\n",
    "all_diff_uni_small = np.zeros(perm)\n",
    "\n",
    "for i in tqdm(range(perm)):\n",
    "    res = simulation_short_uniform_sq_pluses(20, 40, all_increments=np.array([0.1]))\n",
    "    all_diff_uni_small[i] = np.max(res[1])"
   ]
  },
  {
   "cell_type": "code",
   "execution_count": 39,
   "metadata": {},
   "outputs": [
    {
     "data": {
      "text/plain": [
       "(array([  2.,   3.,   7.,  12.,  44., 108., 247., 389., 180.,   8.]),\n",
       " array([-0.42631748, -0.37496972, -0.32362196, -0.2722742 , -0.22092643,\n",
       "        -0.16957867, -0.11823091, -0.06688315, -0.01553539,  0.03581238,\n",
       "         0.08716014]),\n",
       " <a list of 10 Patch objects>)"
      ]
     },
     "execution_count": 39,
     "metadata": {},
     "output_type": "execute_result"
    },
    {
     "data": {
      "image/png": "[encoded data removed]",
      "text/plain": [
       "<Figure size 432x288 with 1 Axes>"
      ]
     },
     "metadata": {
      "needs_background": "light"
     },
     "output_type": "display_data"
    }
   ],
   "source": [
    "plt.xlabel(\"diff\")\n",
    "plt.hist(all_diff_uni_small)"
   ]
  },
  {
   "cell_type": "code",
   "execution_count": 40,
   "metadata": {},
   "outputs": [
    {
     "data": {
      "text/plain": [
       "0.93"
      ]
     },
     "execution_count": 40,
     "metadata": {},
     "output_type": "execute_result"
    }
   ],
   "source": [
    "len(all_diff_uni_small[all_diff_uni_small < 0]) / perm"
   ]
  },
  {
   "cell_type": "markdown",
   "metadata": {},
   "source": [
    "$R_1 = 100, R_2 = 10, \\delta \\in \\{0.01, 0.05, 0.1\\}$ \n",
    "\n",
    "Now we increase the resource inequality between schools by increasing $R_1$ by five times."
   ]
  },
  {
   "cell_type": "code",
   "execution_count": 41,
   "metadata": {},
   "outputs": [
    {
     "name": "stderr",
     "output_type": "stream",
     "text": [
      "100%|██████████████████████████████████████████████████████████████████████████████| 1000/1000 [03:35<00:00,  4.64it/s]"
     ]
    },
    {
     "name": "stdout",
     "output_type": "stream",
     "text": [
      "729\n"
     ]
    },
    {
     "name": "stderr",
     "output_type": "stream",
     "text": [
      "\n"
     ]
    },
    {
     "data": {
      "text/plain": [
       "(array([ 25.,  88., 213., 221.,  93.,  91., 120.,  96.,  43.,  10.]),\n",
       " array([-2.72530323e-01, -2.27072602e-01, -1.81614880e-01, -1.36157159e-01,\n",
       "        -9.06994370e-02, -4.52417154e-02,  2.16006191e-04,  4.56737278e-02,\n",
       "         9.11314494e-02,  1.36589171e-01,  1.82046893e-01]),\n",
       " <a list of 10 Patch objects>)"
      ]
     },
     "execution_count": 41,
     "metadata": {},
     "output_type": "execute_result"
    },
    {
     "data": {
      "image/png": "[encoded data removed]",
      "text/plain": [
       "<Figure size 432x288 with 1 Axes>"
      ]
     },
     "metadata": {
      "needs_background": "light"
     },
     "output_type": "display_data"
    }
   ],
   "source": [
    "perm = 1000\n",
    "all_diff_uni = np.zeros(perm)\n",
    "\n",
    "for i in tqdm(range(perm)):\n",
    "    res = simulation_short_uniform_sq_pluses(100, 40, all_increments=np.array([0.01]))\n",
    "    all_diff_uni[i] = np.max(res[1])\n",
    "    \n",
    "print(len(all_diff_uni[all_diff_uni < 0]) / perm)\n",
    "plt.xlabel(\"diff\")\n",
    "plt.hist(all_diff_uni)"
   ]
  },
  {
   "cell_type": "code",
   "execution_count": 42,
   "metadata": {},
   "outputs": [
    {
     "name": "stderr",
     "output_type": "stream",
     "text": [
      "100%|██████████████████████████████████████████████████████████████████████████████| 1000/1000 [03:39<00:00,  4.57it/s]"
     ]
    },
    {
     "name": "stdout",
     "output_type": "stream",
     "text": [
      "985\n"
     ]
    },
    {
     "name": "stderr",
     "output_type": "stream",
     "text": [
      "\n"
     ]
    },
    {
     "data": {
      "text/plain": [
       "(array([  2.,  18.,  37.,  68., 122., 175., 238., 203., 109.,  28.]),\n",
       " array([-0.98433604, -0.87729942, -0.7702628 , -0.66322617, -0.55618955,\n",
       "        -0.44915293, -0.34211631, -0.23507969, -0.12804306, -0.02100644,\n",
       "         0.08603018]),\n",
       " <a list of 10 Patch objects>)"
      ]
     },
     "execution_count": 42,
     "metadata": {},
     "output_type": "execute_result"
    },
    {
     "data": {
      "image/png": "[encoded data removed]",
      "text/plain": [
       "<Figure size 432x288 with 1 Axes>"
      ]
     },
     "metadata": {
      "needs_background": "light"
     },
     "output_type": "display_data"
    }
   ],
   "source": [
    "perm = 1000\n",
    "all_diff_uni = np.zeros(perm)\n",
    "\n",
    "for i in tqdm(range(perm)):\n",
    "    res = simulation_short_uniform_sq_pluses(100, 40, all_increments=np.array([0.05]))\n",
    "    all_diff_uni[i] = np.max(res[1])\n",
    "    \n",
    "print(len(all_diff_uni[all_diff_uni < 0]) / perm)\n",
    "plt.xlabel(\"diff\")\n",
    "plt.hist(all_diff_uni)"
   ]
  },
  {
   "cell_type": "code",
   "execution_count": 43,
   "metadata": {},
   "outputs": [
    {
     "name": "stderr",
     "output_type": "stream",
     "text": [
      "100%|██████████████████████████████████████████████████████████████████████████████| 1000/1000 [03:57<00:00,  4.21it/s]"
     ]
    },
    {
     "name": "stdout",
     "output_type": "stream",
     "text": [
      "999\n"
     ]
    },
    {
     "name": "stderr",
     "output_type": "stream",
     "text": [
      "\n"
     ]
    },
    {
     "data": {
      "text/plain": [
       "(array([  6.,   3.,  24.,  45., 117., 170., 245., 221., 136.,  33.]),\n",
       " array([-1.62018798, -1.45755265, -1.29491732, -1.13228199, -0.96964667,\n",
       "        -0.80701134, -0.64437601, -0.48174068, -0.31910535, -0.15647002,\n",
       "         0.0061653 ]),\n",
       " <a list of 10 Patch objects>)"
      ]
     },
     "execution_count": 43,
     "metadata": {},
     "output_type": "execute_result"
    },
    {
     "data": {
      "image/png": "[encoded data removed]",
      "text/plain": [
       "<Figure size 432x288 with 1 Axes>"
      ]
     },
     "metadata": {
      "needs_background": "light"
     },
     "output_type": "display_data"
    }
   ],
   "source": [
    "perm = 1000\n",
    "all_diff_uni = np.zeros(perm)\n",
    "\n",
    "for i in tqdm(range(perm)):\n",
    "    res = simulation_short_uniform_sq_pluses(100, 40, all_increments=np.array([0.1]))\n",
    "    all_diff_uni[i] = np.max(res[1])\n",
    "    \n",
    "print(len(all_diff_uni[all_diff_uni < 0]) / perm)\n",
    "plt.xlabel(\"diff\")\n",
    "plt.hist(all_diff_uni)"
   ]
  },
  {
   "cell_type": "markdown",
   "metadata": {},
   "source": [
    "We see that the $\\text{diff}$ decreases with increase of $\\delta$ and with the increase of resource inequlity between schools. But what is more important, we may notice examples of positive $\\text{diff}$, which means that in some cases it is more profitable to invest in the richer school due to discreteness of the model"
   ]
  },
  {
   "cell_type": "markdown",
   "metadata": {},
   "source": [
    "## If there is $u_0$"
   ]
  },
  {
   "cell_type": "markdown",
   "metadata": {},
   "source": [
    "Now players have some reserve utility $u_0$. If player's $max(u_1, u_2) < u_0$ then he can leave school"
   ]
  },
  {
   "cell_type": "code",
   "execution_count": 44,
   "metadata": {},
   "outputs": [],
   "source": [
    "def simulation_short_uniform_sq(r1, n, increment=0.1, r2=10):\n",
    "    \n",
    "    \"\"\" \n",
    "    r1 - ресурсы в элитной школе (во второй школе ресурсы будут всегда 1, поэтому мы их зафиксируем)\n",
    "    n - кол-во школьников\n",
    "    \n",
    "    \"\"\"\n",
    "    \n",
    "    R = np.array([r1, r2])\n",
    "    W = get_W(n)\n",
    "    # W = binom_weights_2_groups_ege(smart, p1, p2, tasks, n)\n",
    "        \n",
    "    stud = students(n)\n",
    "    \n",
    "    # если ничего не делаем\n",
    "\n",
    "    welfare = sim_welf_1(R, W, stud, r1, n)\n",
    "    \n",
    "    # прибавка\n",
    "    delta = np.sum(R) * increment\n",
    "            \n",
    "    # кладем delta в школу 1\n",
    "    R1 = np.array([R[0] + delta, R[1]])\n",
    "    R2 = np.array([R[0], R[1] + delta])\n",
    "    \n",
    "    welfare1 = sim_welf_1(R1, W, stud, r1, n)\n",
    "    \n",
    "    # кладем delta в школу 2\n",
    "        \n",
    "    welfare2 = sim_welf_1(R2, W, stud, r1, n)\n",
    "    \n",
    "    plus1 = welfare1 - welfare\n",
    "    plus2 = welfare2 - welfare\n",
    "    \n",
    "    diff_plus = welfare1 - welfare2\n",
    "            \n",
    "    return max(plus1, plus2), diff_plus"
   ]
  },
  {
   "cell_type": "code",
   "execution_count": 45,
   "metadata": {},
   "outputs": [
    {
     "name": "stderr",
     "output_type": "stream",
     "text": [
      "100%|████████████████████████████████████████████████████████████████████████████████| 100/100 [00:26<00:00,  3.83it/s]\n"
     ]
    }
   ],
   "source": [
    "perm = 100\n",
    "\n",
    "all_welfare = np.zeros(perm)\n",
    "all_diffs_welfare = np.zeros(perm)\n",
    "\n",
    "for i in tqdm(range(perm)):\n",
    "    res = simulation_short_uniform_sq(20, 40, increment=0.01)\n",
    "    all_welfare[i] = res[0]\n",
    "    all_diffs_welfare[i] = res[1]"
   ]
  },
  {
   "cell_type": "markdown",
   "metadata": {},
   "source": [
    "$\\delta$ is some increment that we can allocate to one of two schools.$\\Delta(W) = max(W_1, W_2) - W_0$, where $W_0$ denotes the welfare of initial allocation, and $W_1, W_2$ denote the welfare in case of addition of the $\\delta$ to school 1, school2, respectively. \n",
    "\n",
    " \n",
    "$$ \\delta = \\alpha (R_1 + R_2) $$\n",
    "where $\\alpha$ it the increment in the previous code\n",
    "\n",
    "The following histogramm shows that $\\Delta$ rises with the addition of $\\delta$, which is quite logical as we add more resources to the system."
   ]
  },
  {
   "cell_type": "code",
   "execution_count": 46,
   "metadata": {},
   "outputs": [
    {
     "data": {
      "text/plain": [
       "(array([ 7., 27., 34., 24.,  3.,  1.,  0.,  1.,  2.,  1.]),\n",
       " array([0.15011917, 0.16112803, 0.17213688, 0.18314574, 0.19415459,\n",
       "        0.20516345, 0.2161723 , 0.22718116, 0.23819001, 0.24919887,\n",
       "        0.26020772]),\n",
       " <a list of 10 Patch objects>)"
      ]
     },
     "execution_count": 46,
     "metadata": {},
     "output_type": "execute_result"
    },
    {
     "data": {
      "image/png": "[encoded data removed]",
      "text/plain": [
       "<Figure size 432x288 with 1 Axes>"
      ]
     },
     "metadata": {
      "needs_background": "light"
     },
     "output_type": "display_data"
    }
   ],
   "source": [
    "plt.xlabel(\"Delta W\")\n",
    "plt.hist(all_welfare)"
   ]
  },
  {
   "cell_type": "markdown",
   "metadata": {},
   "source": [
    "The second hystogramm shows the distribution of $W_1 - W_2$. We see that it can be positive, which means that due to discrete effects it is profitable to increase the inequality between 2 schools for relatively small $\\delta$. It is counterintuitive to some extent"
   ]
  },
  {
   "cell_type": "code",
   "execution_count": 47,
   "metadata": {},
   "outputs": [
    {
     "data": {
      "text/plain": [
       "(array([ 1.,  0.,  8., 19., 36., 18., 10.,  5.,  1.,  2.]),\n",
       " array([-0.07279359, -0.05916898, -0.04554437, -0.03191976, -0.01829515,\n",
       "        -0.00467054,  0.00895407,  0.02257869,  0.0362033 ,  0.04982791,\n",
       "         0.06345252]),\n",
       " <a list of 10 Patch objects>)"
      ]
     },
     "execution_count": 47,
     "metadata": {},
     "output_type": "execute_result"
    },
    {
     "data": {
      "image/png": "[encoded data removed]",
      "text/plain": [
       "<Figure size 432x288 with 1 Axes>"
      ]
     },
     "metadata": {
      "needs_background": "light"
     },
     "output_type": "display_data"
    }
   ],
   "source": [
    "plt.xlabel(\"Delta W\")\n",
    "plt.hist(all_diffs_welfare)"
   ]
  },
  {
   "cell_type": "markdown",
   "metadata": {},
   "source": [
    "With the introduction of $u_0$ we obtained the same results as for the model without $u_0$"
   ]
  },
  {
   "cell_type": "markdown",
   "metadata": {},
   "source": [
    "## Gini coefficient"
   ]
  },
  {
   "cell_type": "code",
   "execution_count": 48,
   "metadata": {},
   "outputs": [],
   "source": [
    "def sim_gini_uniform(R, W, r1, n):\n",
    "    \n",
    "    sch1, sch2 = initial_allocation(students(n))\n",
    "        \n",
    "    list_of_quits = np.zeros(n)\n",
    "        \n",
    "    check = check_equilibrium(R, W, sch1, sch2)\n",
    "    \n",
    "    j = 0\n",
    "    while check != 1:\n",
    "        person = j % n \n",
    "        sch1, sch2 = naive_strategy_1(person, R, W, sch1, sch2) \n",
    "        check = check_equilibrium(R, W, sch1, sch2)\n",
    "        j += 1\n",
    "\n",
    "    sch1, sch2 = np.array(sch1), np.array(sch2)\n",
    "        \n",
    "    sch1_ut = get_welfare_school_row(R[0], W[0], sch1)\n",
    "    sch2_ut = get_welfare_school_row(R[1], W[1], sch2)\n",
    "            \n",
    "    return np.concatenate((sch1_ut, sch2_ut))"
   ]
  },
  {
   "cell_type": "code",
   "execution_count": 49,
   "metadata": {},
   "outputs": [],
   "source": [
    "def simulation_short_uniform_gini(r1, n, r2=10):\n",
    "    \n",
    "    \"\"\" \n",
    "    tasks - количество задач в экзамене\n",
    "    r1 - ресурсы в элитной школе (во второй школе ресурсы будут всегда 1, поэтому мы их зафиксируем)\n",
    "    n - кол-во школьников\n",
    "    \"\"\"\n",
    "    \n",
    "    R = np.array([r1, r2])\n",
    "    W = get_W(n)\n",
    "        \n",
    "    stud = students(n)\n",
    "    \n",
    "    all_uts = sim_gini_uniform(R, W, r1, n)\n",
    "    gini, all_rel_uts = get_gini(all_uts)\n",
    "        \n",
    "    return gini, all_rel_uts"
   ]
  },
  {
   "cell_type": "code",
   "execution_count": 50,
   "metadata": {},
   "outputs": [
    {
     "name": "stdout",
     "output_type": "stream",
     "text": [
      "0.11774458073688743\n"
     ]
    },
    {
     "data": {
      "text/plain": [
       "[<matplotlib.lines.Line2D at 0x2655269fd48>]"
      ]
     },
     "execution_count": 50,
     "metadata": {},
     "output_type": "execute_result"
    },
    {
     "data": {
      "image/png": "[encoded data removed]",
      "text/plain": [
       "<Figure size 432x288 with 1 Axes>"
      ]
     },
     "metadata": {
      "needs_background": "light"
     },
     "output_type": "display_data"
    }
   ],
   "source": [
    "r1, n = 30, 40\n",
    "res = simulation_short_uniform_gini(r1, n)\n",
    "print(res[0])\n",
    "x = np.array(range(1, n + 1)) / n\n",
    "plt.title('Lorenz curve')\n",
    "plt.plot(x, res[1])"
   ]
  },
  {
   "cell_type": "code",
   "execution_count": 51,
   "metadata": {},
   "outputs": [
    {
     "name": "stderr",
     "output_type": "stream",
     "text": [
      "100%|██████████████████████████████████████████████████████████████████████████████| 1000/1000 [02:01<00:00,  8.25it/s]\n"
     ]
    }
   ],
   "source": [
    "perm = 1000\n",
    "all_gini = np.zeros(perm)\n",
    "for i in tqdm(range(perm)):\n",
    "    res = simulation_short_uniform_gini(r1, n)\n",
    "    all_gini[i] = res[0]"
   ]
  },
  {
   "cell_type": "code",
   "execution_count": 52,
   "metadata": {},
   "outputs": [
    {
     "data": {
      "text/plain": [
       "(array([ 12.,  62., 214., 319., 247., 109.,  27.,   9.,   0.,   1.]),\n",
       " array([0.070555  , 0.08544629, 0.10033759, 0.11522888, 0.13012018,\n",
       "        0.14501147, 0.15990276, 0.17479406, 0.18968535, 0.20457665,\n",
       "        0.21946794]),\n",
       " <a list of 10 Patch objects>)"
      ]
     },
     "execution_count": 52,
     "metadata": {},
     "output_type": "execute_result"
    },
    {
     "data": {
      "image/png": "[encoded data removed]",
      "text/plain": [
       "<Figure size 432x288 with 1 Axes>"
      ]
     },
     "metadata": {
      "needs_background": "light"
     },
     "output_type": "display_data"
    }
   ],
   "source": [
    "plt.xlabel('Distribution gini coefficients')\n",
    "plt.title('Gini coefficients')\n",
    "plt.hist(all_gini)"
   ]
  },
  {
   "cell_type": "code",
   "execution_count": 53,
   "metadata": {
    "scrolled": true
   },
   "outputs": [
    {
     "data": {
      "text/plain": [
       "[<matplotlib.lines.Line2D at 0x265527a0348>]"
      ]
     },
     "execution_count": 53,
     "metadata": {},
     "output_type": "execute_result"
    },
    {
     "data": {
      "image/png": "[encoded data removed]",
      "text/plain": [
       "<Figure size 432x288 with 1 Axes>"
      ]
     },
     "metadata": {
      "needs_background": "light"
     },
     "output_type": "display_data"
    }
   ],
   "source": [
    "plt.xlabel('Rank of the coefficient')\n",
    "plt.ylabel('Gini coefficients')\n",
    "plt.title('Gini coefficients')\n",
    "plt.plot(sorted(all_gini))"
   ]
  },
  {
   "cell_type": "markdown",
   "metadata": {},
   "source": [
    "## Gini in schools, between schools, total (no $u_0$)"
   ]
  },
  {
   "cell_type": "code",
   "execution_count": 54,
   "metadata": {},
   "outputs": [],
   "source": [
    "def sim_gini_uniform(R, W, stud, r1, n):\n",
    "    \n",
    "    sch1, sch2 = initial_allocation(students(n))\n",
    "                \n",
    "    check = check_equilibrium(R, W, sch1, sch2)\n",
    "    \n",
    "    j = 0\n",
    "    while check != 1:\n",
    "        person = j % n \n",
    "        sch1, sch2 = naive_strategy_1(person, R, W, sch1, sch2) \n",
    "        check = check_equilibrium(R, W, sch1, sch2)\n",
    "        j += 1\n",
    "        \n",
    "    sch1, sch2 = np.array(sch1), np.array(sch2)\n",
    "        \n",
    "    sch1_ut = get_welfare_school_row(R[0], W[0], sch1)\n",
    "    sch2_ut = get_welfare_school_row(R[1], W[1], sch2)\n",
    "            \n",
    "    return sch1_ut, sch2_ut, np.concatenate((sch1_ut, sch2_ut)), sch1, sch2, W, R "
   ]
  },
  {
   "cell_type": "code",
   "execution_count": 55,
   "metadata": {},
   "outputs": [],
   "source": [
    "def sim_gini_uniform_from_fixed_school(R, W, stud, r1, n, school_1):\n",
    "    \n",
    "    sh1, sh2 = school_1, np.ones(n) - school_1\n",
    "                \n",
    "    check = check_equilibrium(R, W, sh1, sh2)\n",
    "    \n",
    "    j = 0\n",
    "    while check != 1:\n",
    "        person = j % n \n",
    "        sh1, sh2 = naive_strategy_1(person, R, W, sh1, sh2) \n",
    "        check = check_equilibrium(R, W, sh1, sh2)\n",
    "        j += 1\n",
    "        \n",
    "    # print(check)\n",
    "        \n",
    "    sh1, sh2 = np.array(sh1), np.array(sh1)\n",
    "        \n",
    "    sch1_ut = get_welfare_school_row(R[0], W[0], sh1)\n",
    "    sch2_ut = get_welfare_school_row(R[1], W[1], sh2)\n",
    "            \n",
    "    return sch1_ut, sch2_ut, np.concatenate((sch1_ut, sch2_ut)), sh1, sh2, W, R"
   ]
  },
  {
   "cell_type": "code",
   "execution_count": 56,
   "metadata": {},
   "outputs": [],
   "source": [
    "def simulation_short_uniform_gini(r1, n, r2=10):\n",
    "    \n",
    "    R = np.array([r1, r2])\n",
    "    W = get_W(n)\n",
    "        \n",
    "    stud = students(n)\n",
    "    \n",
    "    sch1_uts, sch2_uts, all_uts, sc1, sc2, W, R = sim_gini_uniform(R, W, stud, r1, n)\n",
    "    \n",
    "    sch1_gini, sch1_rel_uts = get_gini(sch1_uts)\n",
    "    sch2_gini, sch2_rel_uts = get_gini(sch2_uts)\n",
    "    all_gini, all_rel_uts = get_gini(all_uts)\n",
    "    \n",
    "    W_egalite = np.array([np.ones(n), np.ones(n)])\n",
    "    welf_sch1_egalite = get_welfare_school_row(R[0], W_egalite[0], sc1)\n",
    "    welf_sch2_egalite = get_welfare_school_row(R[1], W_egalite[1], sc2)\n",
    "    welf_all_egalite = np.concatenate((welf_sch1_egalite, welf_sch2_egalite))\n",
    "    gini_egalite = get_gini(welf_all_egalite)[0]\n",
    "    \n",
    "    welfare = np.sum(all_uts)    \n",
    "        \n",
    "    return sch1_gini, sch2_gini, all_gini, gini_egalite, welfare, sc1, W, R"
   ]
  },
  {
   "cell_type": "code",
   "execution_count": 57,
   "metadata": {},
   "outputs": [],
   "source": [
    "def simulation_short_uniform_gini_delta(W, R, n, schoo1, r2=10):\n",
    "        \n",
    "    stud = students(n)\n",
    "        \n",
    "    sch1_uts, sch2_uts, all_uts, scho1, scho2, W, R = sim_gini_uniform_from_fixed_school(R, W, stud, r1, n, schoo1)\n",
    "    \n",
    "    sch1_gini, sch1_rel_uts = get_gini(sch1_uts)\n",
    "    sch2_gini, sch2_rel_uts = get_gini(sch2_uts)\n",
    "    all_gini, all_rel_uts = get_gini(all_uts)\n",
    "    \n",
    "    W_egalite = np.array([np.ones(n), np.ones(n)])\n",
    "    welf_sch1_egalite = get_welfare_school_row(R[0], W_egalite[0], scho1)\n",
    "    welf_sch2_egalite = get_welfare_school_row(R[1], W_egalite[1], scho2)\n",
    "    welf_all_egalite = np.concatenate((welf_sch1_egalite, welf_sch2_egalite))\n",
    "    gini_egalite = get_gini(welf_all_egalite)[0]\n",
    "    \n",
    "    welfare = np.sum(all_uts)\n",
    "    \n",
    "        \n",
    "    return sch1_gini, sch2_gini, all_gini, gini_egalite, welfare, scho1, W, R"
   ]
  },
  {
   "cell_type": "code",
   "execution_count": 58,
   "metadata": {},
   "outputs": [],
   "source": [
    "def checker_array(arr1, arr2):\n",
    "    flag = 1\n",
    "    \n",
    "    for i in range(len(arr1)):\n",
    "        if arr1[i] != arr2[i]:\n",
    "            flag = 0\n",
    "    return flag"
   ]
  },
  {
   "cell_type": "code",
   "execution_count": 148,
   "metadata": {},
   "outputs": [],
   "source": [
    "r = 30\n",
    "n = 5\n",
    "increment = 0.2"
   ]
  },
  {
   "cell_type": "code",
   "execution_count": 100,
   "metadata": {},
   "outputs": [
    {
     "name": "stderr",
     "output_type": "stream",
     "text": [
      " 11%|████████▊                                                                       | 11/100 [00:00<00:00, 169.92it/s]\n"
     ]
    }
   ],
   "source": [
    "perm = 100\n",
    "\n",
    "for i in tqdm(range(perm)):\n",
    "\n",
    "    res_0 = simulation_short_uniform_gini(r, n)\n",
    "    W_fixed = res_0[-2]\n",
    "    sch1_first_stage = res_0[-3]\n",
    "    \n",
    "    res_0_out = copy.deepcopy(res_0)\n",
    "\n",
    "    delta_fixed = increment * (10 + r)\n",
    "    R1 = np.array([r, 10]) + np.array([delta_fixed, 0])\n",
    "    R2 = np.array([r, 10]) + np.array([0, delta_fixed])\n",
    "\n",
    "    res_delta_to_sch1 = simulation_short_uniform_gini_delta(W_fixed, R1, n, sch1_first_stage)\n",
    "    res_delta_to_sch2 = simulation_short_uniform_gini_delta(W_fixed, R2, n, sch1_first_stage)\n",
    "    \n",
    "    if (checker_array(res_0_out[-3], res_delta_to_sch2[-3]) == 0) and (np.sum(res_0_out[-3]) < n - 1):        \n",
    "        break"
   ]
  },
  {
   "cell_type": "markdown",
   "metadata": {},
   "source": [
    "Example where after the addition of resource to the school 2:\n",
    "- inequality in school1 increased\n",
    "- inequality in school2 decreased\n",
    "- inequality between schools decreased\n",
    "- total inequality decreased"
   ]
  },
  {
   "cell_type": "code",
   "execution_count": 101,
   "metadata": {},
   "outputs": [
    {
     "data": {
      "text/plain": [
       "(0.1652763912245021,\n",
       " 0.2568527175094789,\n",
       " 0.13914195489963066,\n",
       " 0.11166048308466325,\n",
       " 13.877726064973775,\n",
       " array([1., 1., 0., 1., 0.]),\n",
       " array([[9.46851729, 5.11286216, 1.40015397, 6.3166266 , 3.79493144],\n",
       "        [5.07802202, 8.2249517 , 3.54317492, 5.49453565, 3.95386724]]),\n",
       " array([30, 10]))"
      ]
     },
     "execution_count": 101,
     "metadata": {},
     "output_type": "execute_result"
    }
   ],
   "source": [
    "res_0_out"
   ]
  },
  {
   "cell_type": "code",
   "execution_count": 102,
   "metadata": {},
   "outputs": [
    {
     "data": {
      "text/plain": [
       "(0.18598589790966447,\n",
       " 0.1366374895120792,\n",
       " 0.12393534134113637,\n",
       " 0.08775786429094201,\n",
       " 16.662323397145748,\n",
       " array([1., 0., 0., 1., 1.]),\n",
       " array([[9.46851729, 5.11286216, 1.40015397, 6.3166266 , 3.79493144],\n",
       "        [5.07802202, 8.2249517 , 3.54317492, 5.49453565, 3.95386724]]),\n",
       " array([30., 18.]))"
      ]
     },
     "execution_count": 102,
     "metadata": {},
     "output_type": "execute_result"
    }
   ],
   "source": [
    "res_delta_to_sch2"
   ]
  },
  {
   "cell_type": "code",
   "execution_count": 103,
   "metadata": {},
   "outputs": [
    {
     "name": "stderr",
     "output_type": "stream",
     "text": [
      "  3%|██▍                                                                              | 3/100 [00:00<00:00, 153.52it/s]\n"
     ]
    }
   ],
   "source": [
    "perm = 100\n",
    "\n",
    "for i in tqdm(range(perm)):\n",
    "\n",
    "    res_0 = simulation_short_uniform_gini(r, n)\n",
    "    W_fixed = res_0[-2]\n",
    "    sch1_first_stage = res_0[-3]\n",
    "    \n",
    "    res_0_out = copy.deepcopy(res_0)\n",
    "\n",
    "    delta_fixed = increment * (10 + r)\n",
    "    R1 = np.array([r, 10]) + np.array([delta_fixed, 0])\n",
    "    R2 = np.array([r, 10]) + np.array([0, delta_fixed])\n",
    "\n",
    "    res_delta_to_sch1 = simulation_short_uniform_gini_delta(W_fixed, R1, n, sch1_first_stage)\n",
    "    res_delta_to_sch2 = simulation_short_uniform_gini_delta(W_fixed, R2, n, sch1_first_stage)\n",
    "    \n",
    "    if (res_0_out[0] > res_delta_to_sch1[0]) and (res_0_out[1] > res_delta_to_sch1[1]):        \n",
    "        break"
   ]
  },
  {
   "cell_type": "markdown",
   "metadata": {},
   "source": [
    "Example where after the addition of resource to the school 1:\n",
    "- inequality in school1 decreased\n",
    "- inequality in school2 decreased\n",
    "- inequality between schools decreased\n",
    "- total inequality increased"
   ]
  },
  {
   "cell_type": "code",
   "execution_count": 104,
   "metadata": {},
   "outputs": [
    {
     "data": {
      "text/plain": [
       "(0.279772110622017,\n",
       " 0.2769477901769528,\n",
       " 0.22793906375997453,\n",
       " 0.11166048308466325,\n",
       " 13.219379220720453,\n",
       " array([1., 1., 1., 0., 0.]),\n",
       " array([[7.58312896, 0.8391154 , 3.2425214 , 2.87556524, 1.64529256],\n",
       "        [5.75275648, 1.0050353 , 9.18620301, 5.14659617, 3.3383921 ]]),\n",
       " array([30, 10]))"
      ]
     },
     "execution_count": 104,
     "metadata": {},
     "output_type": "execute_result"
    }
   ],
   "source": [
    "res_0_out"
   ]
  },
  {
   "cell_type": "code",
   "execution_count": 106,
   "metadata": {},
   "outputs": [
    {
     "data": {
      "text/plain": [
       "(0.20328675541174357,\n",
       " 0.16424830860902906,\n",
       " 0.22234084742914817,\n",
       " 0.1797797465803478,\n",
       " 15.840613754915083,\n",
       " array([1., 0., 1., 1., 0.]),\n",
       " array([[7.58312896, 0.8391154 , 3.2425214 , 2.87556524, 1.64529256],\n",
       "        [5.75275648, 1.0050353 , 9.18620301, 5.14659617, 3.3383921 ]]),\n",
       " array([38., 10.]))"
      ]
     },
     "execution_count": 106,
     "metadata": {},
     "output_type": "execute_result"
    }
   ],
   "source": [
    "res_delta_to_sch1"
   ]
  },
  {
   "cell_type": "code",
   "execution_count": 152,
   "metadata": {},
   "outputs": [
    {
     "name": "stderr",
     "output_type": "stream",
     "text": [
      "  1%|▊                                                                                 | 1/100 [00:00<00:01, 52.20it/s]\n"
     ]
    }
   ],
   "source": [
    "perm = 100\n",
    "\n",
    "for i in tqdm(range(perm)):\n",
    "\n",
    "    res_0 = simulation_short_uniform_gini(r, n)\n",
    "    W_fixed = res_0[-2]\n",
    "    sch1_first_stage = res_0[-3]\n",
    "    \n",
    "    res_0_out = copy.deepcopy(res_0)\n",
    "\n",
    "    delta_fixed = increment * (10 + r)\n",
    "    R1 = np.array([r, 10]) + np.array([delta_fixed, 0])\n",
    "    R2 = np.array([r, 10]) + np.array([0, delta_fixed])\n",
    "\n",
    "    res_delta_to_sch1 = simulation_short_uniform_gini_delta(W_fixed, R1, n, sch1_first_stage)\n",
    "    res_delta_to_sch2 = simulation_short_uniform_gini_delta(W_fixed, R2, n, sch1_first_stage)\n",
    "    \n",
    "    if (res_delta_to_sch1[0] < res_0_out[0]) and (np.sum(res_0_out[-3]) < n - 1):\n",
    "        break"
   ]
  },
  {
   "cell_type": "markdown",
   "metadata": {},
   "source": [
    "Example where after the addition of resource to the school 1:\n",
    "- inequality in school1 decreased\n",
    "- inequality in school2 decreased\n",
    "- inequality between schools increased\n",
    "- total inequality increased"
   ]
  },
  {
   "cell_type": "code",
   "execution_count": 153,
   "metadata": {},
   "outputs": [
    {
     "data": {
      "text/plain": [
       "(0.23278117193664238,\n",
       " 0.2856811043157014,\n",
       " 0.1784199792217489,\n",
       " 0.11166048308466325,\n",
       " 13.51094341168367,\n",
       " array([1., 1., 0., 0., 1.]),\n",
       " array([[3.16973383, 9.49676734, 2.08408044, 1.90372821, 2.65628399],\n",
       "        [5.07802017, 6.89773194, 3.3794734 , 6.00469757, 4.52146861]]),\n",
       " array([30, 10]))"
      ]
     },
     "execution_count": 153,
     "metadata": {},
     "output_type": "execute_result"
    }
   ],
   "source": [
    "res_0_out"
   ]
  },
  {
   "cell_type": "code",
   "execution_count": 154,
   "metadata": {},
   "outputs": [
    {
     "data": {
      "text/plain": [
       "(0.20503875474176314,\n",
       " 0.12237714986893156,\n",
       " 0.22474325323567246,\n",
       " 0.1715387841761653,\n",
       " 17.99819424296508,\n",
       " array([1., 1., 1., 0., 1.]),\n",
       " array([[3.16973383, 9.49676734, 2.08408044, 1.90372821, 2.65628399],\n",
       "        [5.07802017, 6.89773194, 3.3794734 , 6.00469757, 4.52146861]]),\n",
       " array([38., 10.]))"
      ]
     },
     "execution_count": 154,
     "metadata": {},
     "output_type": "execute_result"
    }
   ],
   "source": [
    "res_delta_to_sch1"
   ]
  },
  {
   "cell_type": "code",
   "execution_count": 160,
   "metadata": {},
   "outputs": [
    {
     "name": "stderr",
     "output_type": "stream",
     "text": [
      " 49%|███████████████████████████████████████▏                                        | 49/100 [00:00<00:00, 242.03it/s]\n"
     ]
    }
   ],
   "source": [
    "perm = 100\n",
    "\n",
    "for i in tqdm(range(perm)):\n",
    "\n",
    "    res_0 = simulation_short_uniform_gini(r, n)\n",
    "    W_fixed = res_0[-2]\n",
    "    sch1_first_stage = res_0[-3]\n",
    "    \n",
    "    res_0_out = copy.deepcopy(res_0)\n",
    "\n",
    "    delta_fixed = increment * (10 + r)\n",
    "    R1 = np.array([r, 10]) + np.array([delta_fixed, 0])\n",
    "    R2 = np.array([r, 10]) + np.array([0, delta_fixed])\n",
    "\n",
    "    res_delta_to_sch1 = simulation_short_uniform_gini_delta(W_fixed, R1, n, sch1_first_stage)\n",
    "    res_delta_to_sch2 = simulation_short_uniform_gini_delta(W_fixed, R2, n, sch1_first_stage)\n",
    "    \n",
    "    if (res_delta_to_sch1[0] < res_0_out[0]) and ((res_delta_to_sch1[2] < res_0_out[2])) and (np.sum(res_0_out[-3]) < n - 1):\n",
    "        break"
   ]
  },
  {
   "cell_type": "markdown",
   "metadata": {},
   "source": [
    "Example where after the addition of resource to the school 1:\n",
    "- inequality in school1 decreased\n",
    "- inequality in school2 increased\n",
    "- inequality between schools decreased\n",
    "- total inequality decreased"
   ]
  },
  {
   "cell_type": "code",
   "execution_count": 161,
   "metadata": {},
   "outputs": [
    {
     "data": {
      "text/plain": [
       "(0.2712685722813506,\n",
       " 0.23766881929044947,\n",
       " 0.2645464116322449,\n",
       " 0.21340067511844452,\n",
       " 12.930094483525036,\n",
       " array([0., 0., 1., 0., 1.]),\n",
       " array([[2.34833036, 0.77733897, 7.09454086, 0.16750014, 5.04402247],\n",
       "        [7.77043476, 4.82226671, 5.02772297, 1.39305204, 1.1912743 ]]),\n",
       " array([30, 10]))"
      ]
     },
     "execution_count": 161,
     "metadata": {},
     "output_type": "execute_result"
    }
   ],
   "source": [
    "res_0_out"
   ]
  },
  {
   "cell_type": "code",
   "execution_count": 162,
   "metadata": {},
   "outputs": [
    {
     "data": {
      "text/plain": [
       "(0.19635535433478657,\n",
       " 0.24415682368821168,\n",
       " 0.24802830136130571,\n",
       " 0.1797797465803478,\n",
       " 15.608538693284654,\n",
       " array([1., 0., 1., 0., 1.]),\n",
       " array([[2.34833036, 0.77733897, 7.09454086, 0.16750014, 5.04402247],\n",
       "        [7.77043476, 4.82226671, 5.02772297, 1.39305204, 1.1912743 ]]),\n",
       " array([38., 10.]))"
      ]
     },
     "execution_count": 162,
     "metadata": {},
     "output_type": "execute_result"
    }
   ],
   "source": [
    "res_delta_to_sch1"
   ]
  },
  {
   "cell_type": "markdown",
   "metadata": {},
   "source": [
    "## $U[a, b]$ with $u_0$"
   ]
  },
  {
   "cell_type": "code",
   "execution_count": 63,
   "metadata": {},
   "outputs": [],
   "source": [
    "def get_welfare_school(R, W, sch):\n",
    "    down = np.sum(W * sch)\n",
    "    \n",
    "    if down >= 0.0001:\n",
    "        return np.sum(np.sqrt(R * W / down) * sch)\n",
    "    else:\n",
    "        return 0"
   ]
  },
  {
   "cell_type": "code",
   "execution_count": 64,
   "metadata": {},
   "outputs": [],
   "source": [
    "def sim_welf_uniform_reserve(R, W, stud, n, u_0):\n",
    "    \n",
    "    sch1, sch2 = initial_allocation(students(n))\n",
    "        \n",
    "    list_of_quits = np.zeros(n)\n",
    "        \n",
    "    check = check_equilibrium(R, W, sch1, sch2)\n",
    "    \n",
    "    j = 0\n",
    "    while check != 1:\n",
    "        person = j % n \n",
    "        sch1, sch2, list_of_quits = another_naive_strategy(person, R, W, sch1, sch2, list_of_quits, u_0) \n",
    "        check = check_equilibrium(R, W, sch1, sch2)\n",
    "        j += 1\n",
    "\n",
    "    sch1, sch2 = np.array(sch1), np.array(sch2)\n",
    "    \n",
    "    num_students_left = np.sum(list_of_quits)\n",
    "    \n",
    "    log_u_1 = get_welfare_school(R[0], W[0], sch1)\n",
    "    log_u_2 = get_welfare_school(R[1], W[1], sch2)\n",
    "    log_u_left = get_welfare_left(u_0, num_students_left)\n",
    "        \n",
    "    welfare = max(log_u_1 + log_u_2 + log_u_left, np.sqrt(u_0) * n)\n",
    "    \n",
    "    return welfare"
   ]
  },
  {
   "cell_type": "code",
   "execution_count": 65,
   "metadata": {},
   "outputs": [],
   "source": [
    "def simulation_short_uniform_with_reserved_sq(r1, n, u0, increment=0.1, r2=10):\n",
    "    \n",
    "    R = np.array([r1, r2])\n",
    "    W = get_W(n)\n",
    "        \n",
    "    stud = students(n)\n",
    "    \n",
    "    # no policy\n",
    "\n",
    "    welfare = sim_welf_uniform_reserve(R, W, stud, n, u0)\n",
    "    \n",
    "    # investment\n",
    "    delta = np.sum(R) * increment\n",
    "    \n",
    "    # investment to school 1\n",
    "    R1 = np.array([R[0] + delta, R[1]])\n",
    "    # investment to school 2\n",
    "    R2 = np.array([R[0], R[1] + delta])\n",
    "    \n",
    "    welfare1 = sim_welf_uniform_reserve(R1, W, stud, n, u0)\n",
    "       \n",
    "    welfare2 = sim_welf_uniform_reserve(R2, W, stud, n, u0)\n",
    "    \n",
    "    plus1 = welfare1 - welfare\n",
    "    plus2 = welfare2 - welfare\n",
    "    \n",
    "    diff_plus = welfare1 - welfare2\n",
    "        \n",
    "    return max(plus1, plus2), diff_plus"
   ]
  },
  {
   "cell_type": "markdown",
   "metadata": {},
   "source": [
    "### $R_1 + R_2 = R_0$"
   ]
  },
  {
   "cell_type": "code",
   "execution_count": 66,
   "metadata": {},
   "outputs": [],
   "source": [
    "x = np.array(range(1, 201)) / 400"
   ]
  },
  {
   "cell_type": "code",
   "execution_count": 67,
   "metadata": {},
   "outputs": [
    {
     "name": "stdout",
     "output_type": "stream",
     "text": [
      "0.2725\n"
     ]
    },
    {
     "data": {
      "text/plain": [
       "[<matplotlib.lines.Line2D at 0x26552097d08>]"
      ]
     },
     "execution_count": 67,
     "metadata": {},
     "output_type": "execute_result"
    },
    {
     "data": {
      "image/png": "[encoded data removed]",
      "text/plain": [
       "<Figure size 432x288 with 1 Axes>"
      ]
     },
     "metadata": {
      "needs_background": "light"
     },
     "output_type": "display_data"
    }
   ],
   "source": [
    "res = simulation_short_uniform_with_reserved_sq_folds(100, 40, 0, folds=400)\n",
    "print(res[1])\n",
    "plt.xlabel(\"Share of resources in school 1\")\n",
    "plt.ylabel(\"Welfare\")\n",
    "plt.plot(x, res[0])"
   ]
  },
  {
   "cell_type": "code",
   "execution_count": 68,
   "metadata": {},
   "outputs": [
    {
     "name": "stdout",
     "output_type": "stream",
     "text": [
      "0.5675\n"
     ]
    },
    {
     "data": {
      "text/plain": [
       "[<matplotlib.lines.Line2D at 0x2655284d448>]"
      ]
     },
     "execution_count": 68,
     "metadata": {},
     "output_type": "execute_result"
    },
    {
     "data": {
      "image/png": "[encoded data removed]",
      "text/plain": [
       "<Figure size 432x288 with 1 Axes>"
      ]
     },
     "metadata": {
      "needs_background": "light"
     },
     "output_type": "display_data"
    }
   ],
   "source": [
    "res = simulation_short_uniform_with_reserved_sq_folds(100, 40, 0.1, folds=400)\n",
    "print(res[1])\n",
    "plt.xlabel(\"Share of resources in school 1\")\n",
    "plt.ylabel(\"Welfare\")\n",
    "plt.plot(x, res[0])"
   ]
  },
  {
   "cell_type": "code",
   "execution_count": 69,
   "metadata": {},
   "outputs": [
    {
     "name": "stdout",
     "output_type": "stream",
     "text": [
      "0.5575\n"
     ]
    },
    {
     "data": {
      "text/plain": [
       "[<matplotlib.lines.Line2D at 0x2655386d548>]"
      ]
     },
     "execution_count": 69,
     "metadata": {},
     "output_type": "execute_result"
    },
    {
     "data": {
      "image/png": "[encoded data removed]",
      "text/plain": [
       "<Figure size 432x288 with 1 Axes>"
      ]
     },
     "metadata": {
      "needs_background": "light"
     },
     "output_type": "display_data"
    }
   ],
   "source": [
    "res = simulation_short_uniform_with_reserved_sq_folds(100, 40, 0.25, folds=400)\n",
    "print(res[1])\n",
    "plt.xlabel(\"Share of resources in school 1\")\n",
    "plt.ylabel(\"Welfare\")\n",
    "plt.plot(x, res[0])"
   ]
  },
  {
   "cell_type": "code",
   "execution_count": 70,
   "metadata": {},
   "outputs": [
    {
     "name": "stdout",
     "output_type": "stream",
     "text": [
      "0.3625\n"
     ]
    },
    {
     "data": {
      "text/plain": [
       "[<matplotlib.lines.Line2D at 0x265538da248>]"
      ]
     },
     "execution_count": 70,
     "metadata": {},
     "output_type": "execute_result"
    },
    {
     "data": {
      "image/png": "[encoded data removed]",
      "text/plain": [
       "<Figure size 432x288 with 1 Axes>"
      ]
     },
     "metadata": {
      "needs_background": "light"
     },
     "output_type": "display_data"
    }
   ],
   "source": [
    "res = simulation_short_uniform_with_reserved_sq_folds(100, 40, 0.5, folds=400)\n",
    "print(res[1])\n",
    "plt.xlabel(\"Share of resources in school 1\")\n",
    "plt.ylabel(\"Welfare\")\n",
    "plt.plot(x, res[0])"
   ]
  },
  {
   "cell_type": "code",
   "execution_count": 71,
   "metadata": {},
   "outputs": [
    {
     "name": "stdout",
     "output_type": "stream",
     "text": [
      "0.03\n"
     ]
    },
    {
     "data": {
      "text/plain": [
       "[<matplotlib.lines.Line2D at 0x2655393e588>]"
      ]
     },
     "execution_count": 71,
     "metadata": {},
     "output_type": "execute_result"
    },
    {
     "data": {
      "image/png": "[encoded data removed]",
      "text/plain": [
       "<Figure size 432x288 with 1 Axes>"
      ]
     },
     "metadata": {
      "needs_background": "light"
     },
     "output_type": "display_data"
    }
   ],
   "source": [
    "res = simulation_short_uniform_with_reserved_sq_folds(100, 40, 1, folds=400)\n",
    "print(res[1])\n",
    "plt.xlabel(\"Share of resources in school 1\")\n",
    "plt.ylabel(\"Welfare\")\n",
    "plt.plot(x, res[0])"
   ]
  },
  {
   "cell_type": "code",
   "execution_count": 72,
   "metadata": {},
   "outputs": [
    {
     "name": "stdout",
     "output_type": "stream",
     "text": [
      "0.025\n"
     ]
    },
    {
     "data": {
      "text/plain": [
       "[<matplotlib.lines.Line2D at 0x265539b07c8>]"
      ]
     },
     "execution_count": 72,
     "metadata": {},
     "output_type": "execute_result"
    },
    {
     "data": {
      "image/png": "[encoded data removed]",
      "text/plain": [
       "<Figure size 432x288 with 1 Axes>"
      ]
     },
     "metadata": {
      "needs_background": "light"
     },
     "output_type": "display_data"
    }
   ],
   "source": [
    "res = simulation_short_uniform_with_reserved_sq_folds(100, 40, 2, folds=400)\n",
    "print(res[1])\n",
    "plt.xlabel(\"Share of resources in school 1\")\n",
    "plt.ylabel(\"Welfare\")\n",
    "plt.plot(x, res[0])"
   ]
  },
  {
   "cell_type": "markdown",
   "metadata": {},
   "source": [
    "### Addining $\\delta$"
   ]
  },
  {
   "cell_type": "markdown",
   "metadata": {},
   "source": [
    "$\\alpha = 0.01$"
   ]
  },
  {
   "cell_type": "code",
   "execution_count": 73,
   "metadata": {},
   "outputs": [
    {
     "name": "stderr",
     "output_type": "stream",
     "text": [
      "100%|████████████████████████████████████████████████████████████████████████████████| 100/100 [00:20<00:00,  4.81it/s]\n"
     ]
    }
   ],
   "source": [
    "perm = 100\n",
    "all_welf = np.zeros(perm)\n",
    "all_welf_diffs = np.zeros(perm)\n",
    "\n",
    "for i in tqdm(range(perm)):\n",
    "    res = simulation_short_uniform_with_reserved_sq(100, 40, 0.5, increment=0.01)\n",
    "    all_welf[i] = res[0]\n",
    "    all_welf_diffs[i] = res[1]"
   ]
  },
  {
   "cell_type": "code",
   "execution_count": 75,
   "metadata": {},
   "outputs": [
    {
     "data": {
      "text/plain": [
       "(array([ 5., 20., 11., 11., 23., 19.,  6.,  2.,  1.,  2.]),\n",
       " array([0.22503412, 0.27186973, 0.31870533, 0.36554093, 0.41237654,\n",
       "        0.45921214, 0.50604775, 0.55288335, 0.59971896, 0.64655456,\n",
       "        0.69339016]),\n",
       " <a list of 10 Patch objects>)"
      ]
     },
     "execution_count": 75,
     "metadata": {},
     "output_type": "execute_result"
    },
    {
     "data": {
      "image/png": "[encoded data removed]",
      "text/plain": [
       "<Figure size 432x288 with 1 Axes>"
      ]
     },
     "metadata": {
      "needs_background": "light"
     },
     "output_type": "display_data"
    }
   ],
   "source": [
    "plt.xlabel('Delta W')\n",
    "plt.hist(all_welf)"
   ]
  },
  {
   "cell_type": "code",
   "execution_count": 76,
   "metadata": {},
   "outputs": [
    {
     "data": {
      "text/plain": [
       "(array([ 3.,  2.,  1., 15., 25., 20., 12., 14.,  5.,  3.]),\n",
       " array([-0.41251611, -0.35171374, -0.29091138, -0.23010901, -0.16930664,\n",
       "        -0.10850427, -0.0477019 ,  0.01310047,  0.07390283,  0.1347052 ,\n",
       "         0.19550757]),\n",
       " <a list of 10 Patch objects>)"
      ]
     },
     "execution_count": 76,
     "metadata": {},
     "output_type": "execute_result"
    },
    {
     "data": {
      "image/png": "[encoded data removed]",
      "text/plain": [
       "<Figure size 432x288 with 1 Axes>"
      ]
     },
     "metadata": {
      "needs_background": "light"
     },
     "output_type": "display_data"
    }
   ],
   "source": [
    "plt.xlabel('diff')\n",
    "plt.hist(all_welf_diffs)"
   ]
  },
  {
   "cell_type": "markdown",
   "metadata": {},
   "source": [
    "$\\alpha=0.05$"
   ]
  },
  {
   "cell_type": "code",
   "execution_count": 77,
   "metadata": {},
   "outputs": [
    {
     "name": "stderr",
     "output_type": "stream",
     "text": [
      "100%|████████████████████████████████████████████████████████████████████████████████| 100/100 [00:21<00:00,  4.64it/s]\n"
     ]
    }
   ],
   "source": [
    "perm = 100\n",
    "all_welf = np.zeros(perm)\n",
    "all_welf_diffs = np.zeros(perm)\n",
    "\n",
    "for i in tqdm(range(perm)):\n",
    "    res = simulation_short_uniform_with_reserved_sq(100, 40, 0.5, increment=0.05)\n",
    "    all_welf[i] = res[0]\n",
    "    all_welf_diffs[i] = res[1]"
   ]
  },
  {
   "cell_type": "code",
   "execution_count": 78,
   "metadata": {},
   "outputs": [
    {
     "data": {
      "text/plain": [
       "(array([17., 20., 26., 14., 10.,  8.,  1.,  1.,  2.,  1.]),\n",
       " array([1.63955255, 1.71353629, 1.78752004, 1.86150378, 1.93548752,\n",
       "        2.00947127, 2.08345501, 2.15743876, 2.2314225 , 2.30540624,\n",
       "        2.37938999]),\n",
       " <a list of 10 Patch objects>)"
      ]
     },
     "execution_count": 78,
     "metadata": {},
     "output_type": "execute_result"
    },
    {
     "data": {
      "image/png": "[encoded data removed]",
      "text/plain": [
       "<Figure size 432x288 with 1 Axes>"
      ]
     },
     "metadata": {
      "needs_background": "light"
     },
     "output_type": "display_data"
    }
   ],
   "source": [
    "plt.xlabel('Delta W')\n",
    "plt.hist(all_welf)"
   ]
  },
  {
   "cell_type": "code",
   "execution_count": 79,
   "metadata": {},
   "outputs": [
    {
     "data": {
      "text/plain": [
       "(array([ 2.,  2.,  3.,  8.,  6., 21., 22., 13., 18.,  5.]),\n",
       " array([-0.92380044, -0.82738152, -0.7309626 , -0.63454368, -0.53812476,\n",
       "        -0.44170585, -0.34528693, -0.24886801, -0.15244909, -0.05603017,\n",
       "         0.04038874]),\n",
       " <a list of 10 Patch objects>)"
      ]
     },
     "execution_count": 79,
     "metadata": {},
     "output_type": "execute_result"
    },
    {
     "data": {
      "image/png": "[encoded data removed]",
      "text/plain": [
       "<Figure size 432x288 with 1 Axes>"
      ]
     },
     "metadata": {
      "needs_background": "light"
     },
     "output_type": "display_data"
    }
   ],
   "source": [
    "plt.xlabel('diff')\n",
    "plt.hist(all_welf_diffs)"
   ]
  },
  {
   "cell_type": "markdown",
   "metadata": {},
   "source": [
    "$\\alpha = 0.1$"
   ]
  },
  {
   "cell_type": "code",
   "execution_count": 80,
   "metadata": {},
   "outputs": [
    {
     "name": "stderr",
     "output_type": "stream",
     "text": [
      "100%|████████████████████████████████████████████████████████████████████████████████| 100/100 [00:22<00:00,  4.53it/s]\n"
     ]
    }
   ],
   "source": [
    "perm = 100\n",
    "all_welf = np.zeros(perm)\n",
    "all_welf_diffs = np.zeros(perm)\n",
    "\n",
    "for i in tqdm(range(perm)):\n",
    "    res = simulation_short_uniform_with_reserved_sq(100, 40, 0.5, increment=0.1)\n",
    "    all_welf[i] = res[0]\n",
    "    all_welf_diffs[i] = res[1]"
   ]
  },
  {
   "cell_type": "code",
   "execution_count": 81,
   "metadata": {},
   "outputs": [
    {
     "data": {
      "text/plain": [
       "(array([ 1.,  6., 15., 28., 23., 21.,  2.,  3.,  0.,  1.]),\n",
       " array([2.93995959, 3.08457715, 3.22919471, 3.37381227, 3.51842983,\n",
       "        3.66304739, 3.80766495, 3.95228251, 4.09690007, 4.24151764,\n",
       "        4.3861352 ]),\n",
       " <a list of 10 Patch objects>)"
      ]
     },
     "execution_count": 81,
     "metadata": {},
     "output_type": "execute_result"
    },
    {
     "data": {
      "image/png": "[encoded data removed]",
      "text/plain": [
       "<Figure size 432x288 with 1 Axes>"
      ]
     },
     "metadata": {
      "needs_background": "light"
     },
     "output_type": "display_data"
    }
   ],
   "source": [
    "plt.xlabel('Delta W')\n",
    "plt.hist(all_welf)"
   ]
  },
  {
   "cell_type": "code",
   "execution_count": 82,
   "metadata": {},
   "outputs": [
    {
     "data": {
      "text/plain": [
       "(array([ 1.,  2.,  1.,  6.,  8., 17., 24., 21., 15.,  5.]),\n",
       " array([-1.39199494, -1.25470948, -1.11742401, -0.98013855, -0.84285308,\n",
       "        -0.70556761, -0.56828215, -0.43099668, -0.29371121, -0.15642575,\n",
       "        -0.01914028]),\n",
       " <a list of 10 Patch objects>)"
      ]
     },
     "execution_count": 82,
     "metadata": {},
     "output_type": "execute_result"
    },
    {
     "data": {
      "image/png": "[encoded data removed]",
      "text/plain": [
       "<Figure size 432x288 with 1 Axes>"
      ]
     },
     "metadata": {
      "needs_background": "light"
     },
     "output_type": "display_data"
    }
   ],
   "source": [
    "plt.xlabel('diff')\n",
    "plt.hist(all_welf_diffs)"
   ]
  },
  {
   "cell_type": "markdown",
   "metadata": {},
   "source": [
    "# Model 2"
   ]
  },
  {
   "cell_type": "markdown",
   "metadata": {},
   "source": [
    "## Strategy"
   ]
  },
  {
   "cell_type": "code",
   "execution_count": 186,
   "metadata": {},
   "outputs": [],
   "source": [
    "def drop_loosers(R, W, sch1, sch2, loosers, n, u0):\n",
    "    \n",
    "    for i in range(n):\n",
    "        \n",
    "        min_utility = min(utility(i, R, W, sch1, sch2))\n",
    "        if min_utility < u0:\n",
    "            sch1[i], sch2[i], loosers[i] = 0, 0, 1\n",
    "    return sch1, sch2, loosers"
   ]
  },
  {
   "cell_type": "code",
   "execution_count": 189,
   "metadata": {},
   "outputs": [],
   "source": [
    "def naive_strategy(n, r, w, school1, school2, loosers, u0_1, u0_2, score):\n",
    "    u1, u2 = utility(n, r, w, school1, school2)\n",
    "    \n",
    "    \"\"\" \n",
    "    smart - probability of being smart \n",
    "    p1, p2 - probabilities of solving a task for smart and dumb students, respectively\n",
    "    tasks - number of tasks in exam\n",
    "    r1 - resources at the rich school\n",
    "    n - number of students\n",
    "    u0_1, u0_2 - reserve utility smart and dumb, respectively\n",
    "    \n",
    "    \"\"\"\n",
    "    \n",
    "    if w[0][n] > score:\n",
    "        u0 = u0_1\n",
    "    else:\n",
    "        u0 = u0_2\n",
    "    \n",
    "    if max(u1, u2) < u0:\n",
    "        school1[n], school2[n], loosers[n] = 0, 0, 1\n",
    "        \n",
    "    if (school1[n] != 0) and (u2 > u1):\n",
    "        school1[n] = 0\n",
    "        school2[n] = 1\n",
    "    elif (school2[n] != 0) and (u2 < u1):\n",
    "        school1[n] = 1\n",
    "        school2[n] = 0\n",
    "    return school1, school2, loosers"
   ]
  },
  {
   "cell_type": "markdown",
   "metadata": {},
   "source": [
    "## Experiments"
   ]
  },
  {
   "cell_type": "markdown",
   "metadata": {},
   "source": [
    "## Setup \n",
    "\n",
    "We would like to present a bit more complex model. What if there is som kind of a unified state exam, which defines the abilities of a student, whicj means that $w_{is} = c, \\forall s$. What is more, we will assume that the population of students consists of dumb and smart. Now we will simulate the results of the exam from ~$Bin(k, p_g)$, where $k$ is the number of questions in the exam, $p_g$ is the probability of solving a question for a student from group $g$.\n",
    "\n",
    "The population consitst of two parts, so each student will be smart with probability $p_s$ and dumb with probability $1 - p_s$. \n",
    "\n",
    "We again have a more resourceful school and less resourceful, $R = \\{R_1, 1\\}, R_1 > 1$. \n",
    "\n",
    "We would also specify the vector of $u_0 = \\{u_0^s, u_0^d\\}$, where $u_0^s >  u_0^d$, it reflects that smart students can get a better job even without an education"
   ]
  },
  {
   "cell_type": "markdown",
   "metadata": {},
   "source": [
    "In this setup we will be mostly interested in these questions: \n",
    "\n",
    "- will there be more smart students in the rich school? \n",
    "- will smart students be school-leavers?\n",
    "- will the average exam score in school 1 be equal to average exam score in school 2?\n",
    "- will the average exam score of smart people in school 1 be equal to average exam score of smart people in school 2?\n",
    "- will the average exam score of dumb people in school 1 be equal to average exam score of smart people in school 2?"
   ]
  },
  {
   "cell_type": "code",
   "execution_count": 190,
   "metadata": {},
   "outputs": [],
   "source": [
    "def binom_weights_2_groups_ege(smart, p1, p2, tasks, k, s=2):\n",
    "    \n",
    "    \"\"\"\n",
    "\n",
    "    smart - probability of being smart \n",
    "    p1, p2 - probabilities of solving a task for smart and dumb students, respectively\n",
    "    tasks - number of tasks in exam\n",
    "    k - number of students\n",
    "    \n",
    "    \"\"\"\n",
    "    \n",
    "    W = [np.zeros(k), np.zeros(k)]\n",
    "    for i in range(k):\n",
    "        \n",
    "        if ss.uniform.rvs() < smart:\n",
    "            res_exam = ss.binom.rvs(n=tasks, p = p1)\n",
    "            \n",
    "        else:\n",
    "            res_exam = ss.binom.rvs(n=tasks, p = p2)\n",
    "            \n",
    "        W[0][i], W[1][i] = res_exam, res_exam\n",
    "        \n",
    "    return W"
   ]
  },
  {
   "cell_type": "markdown",
   "metadata": {},
   "source": [
    "We will test 3 hypotheses on each sample\n",
    "\n",
    "1) $$ H_0^1: \\mu_{sch1}=\\mu_{sch2}, H_1^1: \\mu_{sch1} \\neq \\mu_{sch2}$$\n",
    "\n",
    "2) $$ H_0^2: \\mu_{sch1 smart}=\\mu_{sch2 smart}, H_1^2: \\mu_{sch1 smart} \\neq \\mu_{sch2 smart} $$\n",
    "\n",
    "3) $$ H_0^3: \\mu_{sch1 dumb}=\\mu_{sch2 dumb}, H_1^3: \\mu_{sch1 dumb} \\neq \\mu_{sch2 dumb}$$\n",
    "\n",
    "Because we do multiple testing, we should apply correction of multiple testing. One of such methods is Bonferroni-Holm correction, which is uniformly more powerful than the naive Bonferroni correction. \n",
    "\n",
    "Level of significance is $\\alpha=0.05$"
   ]
  },
  {
   "cell_type": "markdown",
   "metadata": {},
   "source": [
    "And after some bootstrap repetions of the simulation we will also test if:\n",
    "$$ H_0: \\# \\text{(smart students in rich school)} = \\# \\text{(smart students in dumb school)}, $$\n",
    "$$ H_1: \\# \\text{(smart students in rich school)} \\neq \\# \\text{(smart students in dumb school)}$$\n",
    "\n",
    "where $\\#$ denotes the power of a set"
   ]
  },
  {
   "cell_type": "code",
   "execution_count": 191,
   "metadata": {},
   "outputs": [],
   "source": [
    "def multiple_hypothesis_test(school_1, school_2, crytical_score_exam=50):\n",
    "    smart_ass_school_1, smart_ass_school_2 = school_1[school_1 > crytical_score_exam], school_2[school_2 > crytical_score_exam]\n",
    "    dumb_ass_school_1, dumb_ass_school_2 = school_1[school_1 < crytical_score_exam], school_2[school_2 < crytical_score_exam]\n",
    "    \n",
    "    p_val_means = ss.ttest_ind(school_1, school_2, equal_var=False).pvalue\n",
    "    p_val_means_smartass = ss.ttest_ind(smart_ass_school_1, smart_ass_school_2, equal_var=False).pvalue\n",
    "    p_val_means_dumbass = ss.ttest_ind(dumb_ass_school_1, dumb_ass_school_2, equal_var=False).pvalue\n",
    "    \n",
    "    pvals = [p_val_means, p_val_means_smartass, p_val_means_dumbass]\n",
    "    hb_test_res = multipletests(pvals=pvals, alpha=0.05, method='holm')\n",
    "    \n",
    "    return hb_test_res"
   ]
  },
  {
   "cell_type": "markdown",
   "metadata": {},
   "source": [
    "We will call a person smart if their exam result is better than: $$ score > \\mathbb{E}(smart score) - 3 \\sigma(smart score) =  p_s k - 1.5 \\sqrt{(n p_s (1 - p_s))}$$ which is 93% share of 3 $\\sigma$ rule for the distribution of smart students. "
   ]
  },
  {
   "cell_type": "code",
   "execution_count": 192,
   "metadata": {},
   "outputs": [],
   "source": [
    "def simulation_short_binom_2_groups_ege_with_reserved(smart, p1, p2, tasks, r1, n, u0_1, u0_2, perm = 10000, periods = 5, r2=1):\n",
    "    \n",
    "    \"\"\" \n",
    "    smart - probability of being smart \n",
    "    p1, p2 - probabilities of solving a task for smart and dumb students, respectively\n",
    "    tasks - number of tasks in exam\n",
    "    r1 - resources at the rich school\n",
    "    n - number of students\n",
    "    u0_1, u0_2 - reserve utility smart and dumb, respectively\n",
    "    \n",
    "    \"\"\"\n",
    "    \n",
    "    R = np.array([r1, 1])\n",
    "    W = binom_weights_2_groups_ege(smart, p1, p2, tasks, n, s=2)\n",
    "    \n",
    "    smart_ass_score = p1 * tasks - 1.5 * (n*p1*(1 - p1)) ** 0.5 # забираем топ-93% студентов, используя правило 2х сигм\n",
    "    \n",
    "    stud = students(n)\n",
    "    sch1, sch2 = initial_allocation(students(n))\n",
    "    \n",
    "    list_of_quits = np.zeros(n)\n",
    "    \n",
    "    \n",
    "    check = check_equilibrium(R, W, sch1, sch2)\n",
    "    \n",
    "    j = 0\n",
    "    while check != 1:\n",
    "        person = j % n \n",
    "        sch1, sch2, list_of_quits = naive_strategy(person, R, W, sch1, sch2, list_of_quits, u0_1, u0_2, smart_ass_score) \n",
    "        check = check_equilibrium(R, W, sch1, sch2)\n",
    "        j += 1\n",
    "\n",
    "    sch1, sch2 = np.array(sch1), np.array(sch2)\n",
    "    \n",
    "    num_students_sch1, num_students_sch2, num_students_left = np.sum(sch1), np.sum(sch2), np.sum(list_of_quits)\n",
    "    average_score_sch1, average_score_sch2, average_score_left = np.sum((sch1 * W[0]) / np.sum(sch1)), np.sum((sch2 * W[1]) / np.sum(sch2)), np.sum((list_of_quits * W[0]) / np.sum(list_of_quits))\n",
    "    \n",
    "    num_smart_ass_sch1, num_smart_ass_sch2, num_smart_ass_left = sch1 * W[0], sch2 * W[1], list_of_quits * W[0]\n",
    "    num_smart_ass_sch1 = len(num_smart_ass_sch1[num_smart_ass_sch1 > smart_ass_score])\n",
    "    num_smart_ass_sch2 = len(num_smart_ass_sch2[num_smart_ass_sch2 > smart_ass_score])\n",
    "    num_smart_ass_left = len(num_smart_ass_left[num_smart_ass_left > smart_ass_score])\n",
    "    \n",
    "    for_dist_sch1, for_dist_sch2, for_dist_left = sch1 * W[0], sch2 * W[1], list_of_quits * W[0]\n",
    "    for_dist_sch1 = for_dist_sch1[for_dist_sch1 > 0]\n",
    "    for_dist_sch2 = for_dist_sch2[for_dist_sch2 > 0]\n",
    "    for_dist_left = for_dist_left[for_dist_left > 0]\n",
    "    \n",
    "    stat_test_res = multiple_hypothesis_test(for_dist_sch1, for_dist_sch2)[0]\n",
    "        \n",
    "    return num_students_sch1, num_students_sch2, num_students_left, average_score_sch1, average_score_sch2, average_score_left, num_smart_ass_sch1, num_smart_ass_sch2, num_smart_ass_left, for_dist_sch1, for_dist_sch2, for_dist_left, stat_test_res,check"
   ]
  },
  {
   "cell_type": "code",
   "execution_count": 193,
   "metadata": {},
   "outputs": [],
   "source": [
    "smart = 0.2\n",
    "p1, p2 = 0.8, 0.4\n",
    "tasks = 100\n",
    "r1, r2 = 2, 1 \n",
    "n = 100\n",
    "u0_1, u0_2 = 2 * (r1 + r2) / n, (r1 + r2) / n"
   ]
  },
  {
   "cell_type": "code",
   "execution_count": 194,
   "metadata": {},
   "outputs": [],
   "source": [
    "res = simulation_short_binom_2_groups_ege_with_reserved(smart=smart, p1=p1, p2=p2, tasks=tasks, r1=r1, n=n, u0_1=u0_1, u0_2=u0_2)"
   ]
  },
  {
   "cell_type": "code",
   "execution_count": 195,
   "metadata": {},
   "outputs": [],
   "source": [
    "school_1, school_2 = res[9], res[10]\n",
    "smart_ass_school_1, smart_ass_school_2 = school_1[school_1 > 50], school_2[school_2 > 50]\n",
    "dumb_ass_school_1, dumb_ass_school_2 = school_1[school_1 < 50], school_2[school_2 < 50]"
   ]
  },
  {
   "cell_type": "code",
   "execution_count": 196,
   "metadata": {},
   "outputs": [],
   "source": [
    "p_val_means = ss.ttest_ind(school_1, school_2, equal_var=False).pvalue\n",
    "p_val_means_smartass = ss.ttest_ind(smart_ass_school_1, smart_ass_school_2, equal_var=False).pvalue\n",
    "p_val_means_dumbass = ss.ttest_ind(dumb_ass_school_1, dumb_ass_school_2, equal_var=False).pvalue"
   ]
  },
  {
   "cell_type": "code",
   "execution_count": 199,
   "metadata": {},
   "outputs": [
    {
     "name": "stdout",
     "output_type": "stream",
     "text": [
      "Setup and input\n",
      "Smart probability: 0.2; p1, p2: (0.8, 0.4); number of students: 100\n",
      "Number of tasks in the exam: 100. Resources (R1, R2): (2, 1)\n",
      "Reserve Utility smart: 0.06; Reserve Utility dumb: 0.03\n",
      "===\n",
      "Experiment results\n",
      "Number of students in school1, school2, left: 58.0, 28.0, 14.0\n",
      "Mean score in school1, school2, left: 50.966, 52.071, 43.286\n",
      "Number of smart students in school1, school2, left: 16, 7, 1\n",
      "Exit code: 1\n",
      "===\n",
      "Distribution of exam results in school 1\n"
     ]
    },
    {
     "data": {
      "image/png": "[encoded data removed]",
      "text/plain": [
       "<Figure size 432x288 with 1 Axes>"
      ]
     },
     "metadata": {
      "needs_background": "light"
     },
     "output_type": "display_data"
    },
    {
     "name": "stdout",
     "output_type": "stream",
     "text": [
      "Distribution of exam results in school 2\n"
     ]
    },
    {
     "data": {
      "image/png": "[encoded data removed]",
      "text/plain": [
       "<Figure size 432x288 with 1 Axes>"
      ]
     },
     "metadata": {
      "needs_background": "light"
     },
     "output_type": "display_data"
    },
    {
     "name": "stdout",
     "output_type": "stream",
     "text": [
      "Distribution of exam results in left\n"
     ]
    },
    {
     "data": {
      "image/png": "[encoded data removed]",
      "text/plain": [
       "<Figure size 432x288 with 1 Axes>"
      ]
     },
     "metadata": {
      "needs_background": "light"
     },
     "output_type": "display_data"
    },
    {
     "name": "stdout",
     "output_type": "stream",
     "text": [
      "===\n",
      "Tests results\n",
      "p-value t-test for equal means in two schools: 0.7922913912276547\n",
      "p-value t-test for equal smart means in two schools: 0.7935907918531739\n",
      "p-value t-test for equal dumb means in two schools: 0.007092472155070762\n"
     ]
    }
   ],
   "source": [
    "print('Setup and input')\n",
    "print(f'Smart probability: {smart}; p1, p2: ({p1}, {p2}); number of students: {n}')\n",
    "print(f'Number of tasks in the exam: {tasks}. Resources (R1, R2): ({r1}, {r2})')\n",
    "print(f'Reserve Utility smart: {u0_1}; Reserve Utility dumb: {u0_2}')\n",
    "# print(f'Количество периодов: {periods}')\n",
    "print('===')\n",
    "print('Experiment results')\n",
    "print(f'Number of students in school1, school2, left: {res[0]}, {res[1]}, {res[2]}')\n",
    "print(f'Mean score in school1, school2, left: {round(res[3], 3)}, {round(res[4], 3)}, {round(res[5], 3)}')\n",
    "print(f'Number of smart students in school1, school2, left: {res[6]}, {res[7]}, {res[8]}')\n",
    "print(f'Exit code: {res[-1]}')\n",
    "print('===')\n",
    "print('Distribution of exam results in school 1')\n",
    "plt.hist(res[9])\n",
    "plt.axvline(x=tasks * p2, color='r')\n",
    "plt.axvline(x=tasks * p1, color='g')\n",
    "plt.show()\n",
    "print('Distribution of exam results in school 2')\n",
    "plt.hist(res[10])\n",
    "plt.axvline(x=tasks * p2, color='r')\n",
    "plt.axvline(x=tasks * p1, color='g')\n",
    "plt.show()\n",
    "print('Distribution of exam results in left')\n",
    "plt.hist(res[11])\n",
    "plt.axvline(x=tasks * p2, color='r')\n",
    "plt.axvline(x=tasks * p1, color='g')\n",
    "plt.show()\n",
    "print('===')\n",
    "print('Tests results')\n",
    "print(f'p-value t-test for equal means in two schools: {p_val_means}')\n",
    "print(f'p-value t-test for equal smart means in two schools: {p_val_means_smartass}')\n",
    "print(f'p-value t-test for equal dumb means in two schools: {p_val_means_dumbass}')"
   ]
  },
  {
   "cell_type": "markdown",
   "metadata": {},
   "source": [
    "We see that in our model it is possible that smart students leave school. "
   ]
  },
  {
   "cell_type": "markdown",
   "metadata": {},
   "source": [
    "## Test $H_0$"
   ]
  },
  {
   "cell_type": "markdown",
   "metadata": {},
   "source": [
    "We will count the bootstrap probability of rejecting $H_0^i$"
   ]
  },
  {
   "cell_type": "code",
   "execution_count": 200,
   "metadata": {},
   "outputs": [
    {
     "name": "stderr",
     "output_type": "stream",
     "text": [
      "100%|██████████████████████████████████████████████████████████████████████████████| 1000/1000 [03:08<00:00,  5.31it/s]"
     ]
    },
    {
     "name": "stdout",
     "output_type": "stream",
     "text": [
      "Share of rejected H0 for means: 0.021\n",
      "Share of rejected H0 for means between smart students: 0.011\n",
      "Share of rejected H0 for means between dumb students: 0.064\n"
     ]
    },
    {
     "name": "stderr",
     "output_type": "stream",
     "text": [
      "\n"
     ]
    }
   ],
   "source": [
    "iterations = 1000\n",
    "\n",
    "all_number_of_smart_sch1 = np.zeros(iterations)\n",
    "all_number_of_smart_sch2 = np.zeros(iterations)\n",
    "\n",
    "number_of_rejected_mean = 0\n",
    "number_of_rejected_mean_smart = 0\n",
    "number_of_rejected_mean_dumb = 0\n",
    "\n",
    "for i in tqdm(range(iterations)):\n",
    "    try: \n",
    "        res = simulation_short_binom_2_groups_ege_with_reserved(smart=smart, p1=p1, p2=p2, tasks=tasks, r1=r1, n=n, u0_1=u0_1, u0_2=u0_2)\n",
    "        number_of_rejected_mean += res[12][0]\n",
    "        number_of_rejected_mean_smart += res[12][1]\n",
    "        number_of_rejected_mean_dumb += res[12][2]\n",
    "\n",
    "        all_number_of_smart_sch1[i], all_number_of_smart_sch2[i] = res[6], res[7]\n",
    "    except RuntimeWarning:\n",
    "        continue\n",
    "\n",
    "print(f'Share of rejected H0 for means: {number_of_rejected_mean / iterations}')\n",
    "print(f'Share of rejected H0 for means between smart students: {number_of_rejected_mean_smart / iterations}')\n",
    "print(f'Share of rejected H0 for means between dumb students: {number_of_rejected_mean_dumb / iterations}')"
   ]
  },
  {
   "cell_type": "markdown",
   "metadata": {},
   "source": [
    "We conclude that we significantly rare reject the null hypothesis for means between schools and means between smart students. It means that it is sometimes better to be best at poor school rather than compete for resources in a rich one. "
   ]
  },
  {
   "cell_type": "code",
   "execution_count": 142,
   "metadata": {},
   "outputs": [
    {
     "data": {
      "text/plain": [
       "0.0"
      ]
     },
     "execution_count": 142,
     "metadata": {},
     "output_type": "execute_result"
    }
   ],
   "source": [
    "ss.ttest_ind(all_number_of_smart_sch1, all_number_of_smart_sch2, equal_var=False, alternative='greater').pvalue"
   ]
  },
  {
   "cell_type": "markdown",
   "metadata": {},
   "source": [
    "This tests shows that it the richer school there are a significantly more smart students than in the poor one."
   ]
  }
 ],
 "metadata": {
  "kernelspec": {
   "display_name": "Python 3",
   "language": "python",
   "name": "python3"
  },
  "language_info": {
   "codemirror_mode": {
    "name": "ipython",
    "version": 3
   },
   "file_extension": ".py",
   "mimetype": "text/x-python",
   "name": "python",
   "nbconvert_exporter": "python",
   "pygments_lexer": "ipython3",
   "version": "3.7.4"
  }
 },
 "nbformat": 4,
 "nbformat_minor": 2
}
